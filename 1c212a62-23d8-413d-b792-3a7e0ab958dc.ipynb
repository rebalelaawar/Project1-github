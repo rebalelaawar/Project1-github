{
 "cells": [
  {
   "cell_type": "markdown",
   "metadata": {
    "id": "E0vqbgi9ay0H"
   },
   "source": [
    "# Yandex.Music"
   ]
  },
  {
   "cell_type": "markdown",
   "metadata": {
    "id": "fhq_eyov_Zcs"
   },
   "source": [
    "# Contents <a id='back'></a>\n",
    "\n",
    "* [Introduction](#intro)\n",
    "* [Stage 1. Data overview](#data_review)\n",
    "    * [Conclusions](#data_review_conclusions)\n",
    "* [Stage 2. Data preprocessing](#data_preprocessing)\n",
    "    * [2.1 Header style](#header_style)\n",
    "    * [2.2 Missing values](#missing_values)\n",
    "    * [2.3 Duplicates](#duplicates)\n",
    "    * [2.4 Conclusions](#data_preprocessing_conclusions)\n",
    "* [Stage 3. Testing the hypotheses](#hypotheses)\n",
    "    * [3.1 Hypothesis 1: user activity in the two cities](#activity)\n",
    "    * [3.2 Hypothesis 2: music preferences on Monday and Friday](#week)\n",
    "    * [3.3 Hypothesis 3: genre preferences in Springfield and Shelbyville](#genre)\n",
    "* [Findings](#end)"
   ]
  },
  {
   "cell_type": "markdown",
   "metadata": {
    "id": "VUC88oWjTJw2"
   },
   "source": [
    "## Introduction <a id='intro'></a>\n",
    "Whenever we're doing research, we need to formulate hypotheses that we can then test. Sometimes we accept these hypotheses; other times, we reject them. To make the right decisions, a business must be able to understand whether or not it's making the right assumptions.\n",
    "\n",
    "In this project, you'll compare the music preferences of the cities of Springfield and Shelbyville. You'll study real Yandex.Music data to test the hypotheses below and compare user behavior for these two cities.\n",
    "\n",
    "### Goal: \n",
    "Test three hypotheses:\n",
    "1. User activity differs depending on the day of the week and from city to city. \n",
    "2. On Monday mornings, Springfield and Shelbyville residents listen to different genres. This is also true for Friday evenings. \n",
    "3. Springfield and Shelbyville listeners have different preferences. In Springfield, they prefer pop, while Shelbyville has more rap fans.\n",
    "\n",
    "### Stages \n",
    "Data on user behavior is stored in the file `/datasets/music_project_en.csv`. There is no information about the quality of the data, so you will need to explore it before testing the hypotheses. \n",
    "\n",
    "First, you'll evaluate the quality of the data and see whether its issues are significant. Then, during data preprocessing, you will try to account for the most critical problems.\n",
    " \n",
    "Your project will consist of three stages:\n",
    " 1. Data overview\n",
    " 2. Data preprocessing\n",
    " 3. Testing the hypotheses\n",
    " \n",
    "[Back to Contents](#back)"
   ]
  },
  {
   "cell_type": "markdown",
   "metadata": {},
   "source": [
    "<div class=\"alert alert-block alert-success\">\n",
    "<b>Reviewer's comment</b> <a class=\"tocSkip\"></a><br>\n",
    "Great that you started the project with a brief introduction, this will help to stay on track 👍\n",
    "</div>"
   ]
  },
  {
   "cell_type": "markdown",
   "metadata": {
    "id": "Ml1hmfXC_Zcs"
   },
   "source": [
    "## Stage 1. Data overview <a id='data_review'></a>\n",
    "\n",
    "Open the data on Yandex.Music and explore it."
   ]
  },
  {
   "cell_type": "markdown",
   "metadata": {
    "id": "57eAOGIz_Zcs"
   },
   "source": [
    "You'll need `pandas`, so import it."
   ]
  },
  {
   "cell_type": "code",
   "execution_count": 1,
   "metadata": {
    "id": "AXN7PHPN_Zcs"
   },
   "outputs": [],
   "source": [
    "\n",
    "import pandas as pd "
   ]
  },
  {
   "cell_type": "markdown",
   "metadata": {
    "id": "SG23P8tt_Zcs"
   },
   "source": [
    "Read the file `music_project_en.csv` from the `/datasets/` folder and save it in the `df` variable:"
   ]
  },
  {
   "cell_type": "code",
   "execution_count": 2,
   "metadata": {},
   "outputs": [],
   "source": [
    "df = pd.read_csv('/datasets/music_project_en.csv')"
   ]
  },
  {
   "cell_type": "code",
   "execution_count": 3,
   "metadata": {},
   "outputs": [
    {
     "data": {
      "text/html": [
       "<div>\n",
       "<style scoped>\n",
       "    .dataframe tbody tr th:only-of-type {\n",
       "        vertical-align: middle;\n",
       "    }\n",
       "\n",
       "    .dataframe tbody tr th {\n",
       "        vertical-align: top;\n",
       "    }\n",
       "\n",
       "    .dataframe thead th {\n",
       "        text-align: right;\n",
       "    }\n",
       "</style>\n",
       "<table border=\"1\" class=\"dataframe\">\n",
       "  <thead>\n",
       "    <tr style=\"text-align: right;\">\n",
       "      <th></th>\n",
       "      <th>userID</th>\n",
       "      <th>Track</th>\n",
       "      <th>artist</th>\n",
       "      <th>genre</th>\n",
       "      <th>City</th>\n",
       "      <th>time</th>\n",
       "      <th>Day</th>\n",
       "    </tr>\n",
       "  </thead>\n",
       "  <tbody>\n",
       "    <tr>\n",
       "      <th>0</th>\n",
       "      <td>FFB692EC</td>\n",
       "      <td>Kamigata To Boots</td>\n",
       "      <td>The Mass Missile</td>\n",
       "      <td>rock</td>\n",
       "      <td>Shelbyville</td>\n",
       "      <td>20:28:33</td>\n",
       "      <td>Wednesday</td>\n",
       "    </tr>\n",
       "    <tr>\n",
       "      <th>1</th>\n",
       "      <td>55204538</td>\n",
       "      <td>Delayed Because of Accident</td>\n",
       "      <td>Andreas Rönnberg</td>\n",
       "      <td>rock</td>\n",
       "      <td>Springfield</td>\n",
       "      <td>14:07:09</td>\n",
       "      <td>Friday</td>\n",
       "    </tr>\n",
       "    <tr>\n",
       "      <th>2</th>\n",
       "      <td>20EC38</td>\n",
       "      <td>Funiculì funiculà</td>\n",
       "      <td>Mario Lanza</td>\n",
       "      <td>pop</td>\n",
       "      <td>Shelbyville</td>\n",
       "      <td>20:58:07</td>\n",
       "      <td>Wednesday</td>\n",
       "    </tr>\n",
       "    <tr>\n",
       "      <th>3</th>\n",
       "      <td>A3DD03C9</td>\n",
       "      <td>Dragons in the Sunset</td>\n",
       "      <td>Fire + Ice</td>\n",
       "      <td>folk</td>\n",
       "      <td>Shelbyville</td>\n",
       "      <td>08:37:09</td>\n",
       "      <td>Monday</td>\n",
       "    </tr>\n",
       "    <tr>\n",
       "      <th>4</th>\n",
       "      <td>E2DC1FAE</td>\n",
       "      <td>Soul People</td>\n",
       "      <td>Space Echo</td>\n",
       "      <td>dance</td>\n",
       "      <td>Springfield</td>\n",
       "      <td>08:34:34</td>\n",
       "      <td>Monday</td>\n",
       "    </tr>\n",
       "    <tr>\n",
       "      <th>...</th>\n",
       "      <td>...</td>\n",
       "      <td>...</td>\n",
       "      <td>...</td>\n",
       "      <td>...</td>\n",
       "      <td>...</td>\n",
       "      <td>...</td>\n",
       "      <td>...</td>\n",
       "    </tr>\n",
       "    <tr>\n",
       "      <th>65074</th>\n",
       "      <td>729CBB09</td>\n",
       "      <td>My Name</td>\n",
       "      <td>McLean</td>\n",
       "      <td>rnb</td>\n",
       "      <td>Springfield</td>\n",
       "      <td>13:32:28</td>\n",
       "      <td>Wednesday</td>\n",
       "    </tr>\n",
       "    <tr>\n",
       "      <th>65075</th>\n",
       "      <td>D08D4A55</td>\n",
       "      <td>Maybe One Day (feat. Black Spade)</td>\n",
       "      <td>Blu &amp; Exile</td>\n",
       "      <td>hip</td>\n",
       "      <td>Shelbyville</td>\n",
       "      <td>10:00:00</td>\n",
       "      <td>Monday</td>\n",
       "    </tr>\n",
       "    <tr>\n",
       "      <th>65076</th>\n",
       "      <td>C5E3A0D5</td>\n",
       "      <td>Jalopiina</td>\n",
       "      <td>NaN</td>\n",
       "      <td>industrial</td>\n",
       "      <td>Springfield</td>\n",
       "      <td>20:09:26</td>\n",
       "      <td>Friday</td>\n",
       "    </tr>\n",
       "    <tr>\n",
       "      <th>65077</th>\n",
       "      <td>321D0506</td>\n",
       "      <td>Freight Train</td>\n",
       "      <td>Chas McDevitt</td>\n",
       "      <td>rock</td>\n",
       "      <td>Springfield</td>\n",
       "      <td>21:43:59</td>\n",
       "      <td>Friday</td>\n",
       "    </tr>\n",
       "    <tr>\n",
       "      <th>65078</th>\n",
       "      <td>3A64EF84</td>\n",
       "      <td>Tell Me Sweet Little Lies</td>\n",
       "      <td>Monica Lopez</td>\n",
       "      <td>country</td>\n",
       "      <td>Springfield</td>\n",
       "      <td>21:59:46</td>\n",
       "      <td>Friday</td>\n",
       "    </tr>\n",
       "  </tbody>\n",
       "</table>\n",
       "<p>65079 rows × 7 columns</p>\n",
       "</div>"
      ],
      "text/plain": [
       "         userID                              Track            artist  \\\n",
       "0      FFB692EC                  Kamigata To Boots  The Mass Missile   \n",
       "1      55204538        Delayed Because of Accident  Andreas Rönnberg   \n",
       "2        20EC38                  Funiculì funiculà       Mario Lanza   \n",
       "3      A3DD03C9              Dragons in the Sunset        Fire + Ice   \n",
       "4      E2DC1FAE                        Soul People        Space Echo   \n",
       "...         ...                                ...               ...   \n",
       "65074  729CBB09                            My Name            McLean   \n",
       "65075  D08D4A55  Maybe One Day (feat. Black Spade)       Blu & Exile   \n",
       "65076  C5E3A0D5                          Jalopiina               NaN   \n",
       "65077  321D0506                      Freight Train     Chas McDevitt   \n",
       "65078  3A64EF84          Tell Me Sweet Little Lies      Monica Lopez   \n",
       "\n",
       "            genre       City        time        Day  \n",
       "0            rock  Shelbyville  20:28:33  Wednesday  \n",
       "1            rock  Springfield  14:07:09     Friday  \n",
       "2             pop  Shelbyville  20:58:07  Wednesday  \n",
       "3            folk  Shelbyville  08:37:09     Monday  \n",
       "4           dance  Springfield  08:34:34     Monday  \n",
       "...           ...          ...       ...        ...  \n",
       "65074         rnb  Springfield  13:32:28  Wednesday  \n",
       "65075         hip  Shelbyville  10:00:00     Monday  \n",
       "65076  industrial  Springfield  20:09:26     Friday  \n",
       "65077        rock  Springfield  21:43:59     Friday  \n",
       "65078     country  Springfield  21:59:46     Friday  \n",
       "\n",
       "[65079 rows x 7 columns]"
      ]
     },
     "execution_count": 3,
     "metadata": {},
     "output_type": "execute_result"
    }
   ],
   "source": [
    "df"
   ]
  },
  {
   "cell_type": "markdown",
   "metadata": {
    "id": "rDoOMd3uTqnZ"
   },
   "source": [
    "Print the first 10 table rows:"
   ]
  },
  {
   "cell_type": "code",
   "execution_count": 4,
   "metadata": {
    "id": "oWTVX3gW_Zct"
   },
   "outputs": [
    {
     "name": "stdout",
     "output_type": "stream",
     "text": [
      "     userID                        Track            artist   genre  \\\n",
      "0  FFB692EC            Kamigata To Boots  The Mass Missile    rock   \n",
      "1  55204538  Delayed Because of Accident  Andreas Rönnberg    rock   \n",
      "2    20EC38            Funiculì funiculà       Mario Lanza     pop   \n",
      "3  A3DD03C9        Dragons in the Sunset        Fire + Ice    folk   \n",
      "4  E2DC1FAE                  Soul People        Space Echo   dance   \n",
      "5  842029A1                       Chains          Obladaet  rusrap   \n",
      "6  4CB90AA5                         True      Roman Messer   dance   \n",
      "7  F03E1C1F             Feeling This Way   Polina Griffith   dance   \n",
      "8  8FA1D3BE                     L’estate       Julia Dalia  ruspop   \n",
      "9  E772D5C0                    Pessimist               NaN   dance   \n",
      "\n",
      "        City        time        Day  \n",
      "0  Shelbyville  20:28:33  Wednesday  \n",
      "1  Springfield  14:07:09     Friday  \n",
      "2  Shelbyville  20:58:07  Wednesday  \n",
      "3  Shelbyville  08:37:09     Monday  \n",
      "4  Springfield  08:34:34     Monday  \n",
      "5  Shelbyville  13:09:41     Friday  \n",
      "6  Springfield  13:00:07  Wednesday  \n",
      "7  Springfield  20:47:49  Wednesday  \n",
      "8  Springfield  09:17:40     Friday  \n",
      "9  Shelbyville  21:20:49  Wednesday  \n"
     ]
    }
   ],
   "source": [
    "print(df.head(10))"
   ]
  },
  {
   "cell_type": "markdown",
   "metadata": {
    "id": "EO73Kwic_Zct"
   },
   "source": [
    "Obtaining the general information about the table with one command:"
   ]
  },
  {
   "cell_type": "code",
   "execution_count": 5,
   "metadata": {
    "id": "DSf2kIb-_Zct"
   },
   "outputs": [
    {
     "name": "stdout",
     "output_type": "stream",
     "text": [
      "<bound method DataFrame.info of          userID                              Track            artist  \\\n",
      "0      FFB692EC                  Kamigata To Boots  The Mass Missile   \n",
      "1      55204538        Delayed Because of Accident  Andreas Rönnberg   \n",
      "2        20EC38                  Funiculì funiculà       Mario Lanza   \n",
      "3      A3DD03C9              Dragons in the Sunset        Fire + Ice   \n",
      "4      E2DC1FAE                        Soul People        Space Echo   \n",
      "...         ...                                ...               ...   \n",
      "65074  729CBB09                            My Name            McLean   \n",
      "65075  D08D4A55  Maybe One Day (feat. Black Spade)       Blu & Exile   \n",
      "65076  C5E3A0D5                          Jalopiina               NaN   \n",
      "65077  321D0506                      Freight Train     Chas McDevitt   \n",
      "65078  3A64EF84          Tell Me Sweet Little Lies      Monica Lopez   \n",
      "\n",
      "            genre       City        time        Day  \n",
      "0            rock  Shelbyville  20:28:33  Wednesday  \n",
      "1            rock  Springfield  14:07:09     Friday  \n",
      "2             pop  Shelbyville  20:58:07  Wednesday  \n",
      "3            folk  Shelbyville  08:37:09     Monday  \n",
      "4           dance  Springfield  08:34:34     Monday  \n",
      "...           ...          ...       ...        ...  \n",
      "65074         rnb  Springfield  13:32:28  Wednesday  \n",
      "65075         hip  Shelbyville  10:00:00     Monday  \n",
      "65076  industrial  Springfield  20:09:26     Friday  \n",
      "65077        rock  Springfield  21:43:59     Friday  \n",
      "65078     country  Springfield  21:59:46     Friday  \n",
      "\n",
      "[65079 rows x 7 columns]>\n"
     ]
    }
   ],
   "source": [
    "print(df.info)"
   ]
  },
  {
   "cell_type": "markdown",
   "metadata": {
    "id": "TaQ2Iwbr_Zct"
   },
   "source": [
    "The table contains seven columns. They all store the same data type: `object`.\n",
    "\n",
    "According to the documentation:\n",
    "- `'userID'` — user identifier\n",
    "- `'Track'` — track title\n",
    "- `'artist'` — artist's name\n",
    "- `'genre'`\n",
    "- `'City'` — user's city\n",
    "- `'time'` — the exact time the track was played\n",
    "- `'Day'` — day of the week\n",
    "\n",
    "We can see three issues with style in the column names:\n",
    "1. Some names are uppercase, some are lowercase.\n",
    "2. There are spaces in some names.\n",
    "3. There is an empty row.\n",
    "\n",
    "The number of column values is different. This means the data contains missing values.\n"
   ]
  },
  {
   "cell_type": "markdown",
   "metadata": {
    "id": "MCB6-dXG_Zct"
   },
   "source": [
    "# Conclusions <a id='data_review_conclusions'></a> \n",
    "\n",
    "Each row in the table stores data on a track that was played. Some columns describe the track itself: its title, artist and genre. The rest convey information about the user: the city they come from, the time they played the track. \n",
    "\n",
    "It's clear that the data is sufficient to test the hypotheses. However, there are missing values.\n",
    "\n",
    "To move forward, we need to preprocess the data."
   ]
  },
  {
   "cell_type": "markdown",
   "metadata": {},
   "source": [
    "<div class=\"alert alert-block alert-success\">\n",
    "<b>Reviewer's comment</b> <a class=\"tocSkip\"></a><br>\n",
    "Good start! Let's take a closer look at the data we have. \n",
    "    \n",
    "</div>"
   ]
  },
  {
   "cell_type": "markdown",
   "metadata": {
    "id": "3eL__vcwViOi"
   },
   "source": [
    "[Back to Contents](#back)"
   ]
  },
  {
   "cell_type": "markdown",
   "metadata": {
    "id": "SjYF6Ub9_Zct"
   },
   "source": [
    "## Stage 2. Data preprocessing <a id='data_preprocessing'></a>\n",
    "Correct the formatting in the column headers and deal with the missing values. Then, check whether there are duplicates in the data."
   ]
  },
  {
   "cell_type": "markdown",
   "metadata": {
    "id": "dIaKXr29_Zct"
   },
   "source": [
    "### Header style <a id='header_style'></a>\n",
    "Print the column header:"
   ]
  },
  {
   "cell_type": "code",
   "execution_count": 6,
   "metadata": {
    "id": "oKOTdF_Q_Zct",
    "scrolled": false
   },
   "outputs": [
    {
     "name": "stdout",
     "output_type": "stream",
     "text": [
      "Index(['  userID', 'Track', 'artist', 'genre', '  City  ', 'time', 'Day'], dtype='object')\n"
     ]
    }
   ],
   "source": [
    "print(df.columns)"
   ]
  },
  {
   "cell_type": "markdown",
   "metadata": {
    "id": "zj5534cv_Zct"
   },
   "source": [
    "Change column names according to the rules of good style:\n",
    "* If the name has several words, use snake_case\n",
    "* All characters must be lowercase\n",
    "* Delete spaces"
   ]
  },
  {
   "cell_type": "code",
   "execution_count": 7,
   "metadata": {},
   "outputs": [],
   "source": [
    "df.columns = ['user_id', 'track', 'artist', 'genre', 'city', 'time', 'day']"
   ]
  },
  {
   "cell_type": "markdown",
   "metadata": {
    "id": "1dqbh00J_Zct"
   },
   "source": [
    "Check the result. Print the names of the columns once more:"
   ]
  },
  {
   "cell_type": "code",
   "execution_count": 8,
   "metadata": {},
   "outputs": [
    {
     "name": "stdout",
     "output_type": "stream",
     "text": [
      "Index(['user_id', 'track', 'artist', 'genre', 'city', 'time', 'day'], dtype='object')\n"
     ]
    }
   ],
   "source": [
    "print(df.columns)"
   ]
  },
  {
   "cell_type": "markdown",
   "metadata": {},
   "source": [
    "<div class=\"alert alert-block alert-success\">\n",
    "<b>Reviewer's comment</b> <a class=\"tocSkip\"></a><br>\n",
    "Just a quick hint here, to simplify the process we can work with dataframe columns directly, pandas already has built-in methods:<br>\n",
    "<code>df.columns =  df.columns.str.lower().str.strip()</code>\n",
    "</div>"
   ]
  },
  {
   "cell_type": "markdown",
   "metadata": {
    "id": "xYJk6ksJVpOl"
   },
   "source": [
    "[Back to Contents](#back)"
   ]
  },
  {
   "cell_type": "markdown",
   "metadata": {
    "id": "5ISfbcfY_Zct"
   },
   "source": [
    "### Missing values <a id='missing_values'></a>\n",
    "First, find the number of missing values in the table. To do so, use two `pandas` methods:"
   ]
  },
  {
   "cell_type": "code",
   "execution_count": 9,
   "metadata": {
    "id": "RskX29qr_Zct"
   },
   "outputs": [
    {
     "data": {
      "text/plain": [
       "user_id       0\n",
       "track      1343\n",
       "artist     7567\n",
       "genre      1198\n",
       "city          0\n",
       "time          0\n",
       "day           0\n",
       "dtype: int64"
      ]
     },
     "execution_count": 9,
     "metadata": {},
     "output_type": "execute_result"
    }
   ],
   "source": [
    "df.isnull().sum()"
   ]
  },
  {
   "cell_type": "markdown",
   "metadata": {
    "id": "qubhgnlO_Zct"
   },
   "source": [
    "Not all missing values affect the research. For instance, the missing values in `track` and `artist` are not critical. You can simply replace them with clear markers.\n",
    "\n",
    "But missing values in `'genre'` can affect the comparison of music preferences in Springfield and Shelbyville. In real life, it would be useful to learn the reasons why the data is missing and try to make up for them. But we do not have that opportunity in this project. So you will have to:\n",
    "* Fill in these missing values with markers\n",
    "* Evaluate how much the missing values may affect your computations"
   ]
  },
  {
   "cell_type": "markdown",
   "metadata": {
    "id": "fSv2laPA_Zct"
   },
   "source": [
    "Replace the missing values in `'track'`, `'artist'`, and `'genre'` with the string `'unknown'`. To do this, create the `columns_to_replace` list, loop over it with `for`, and replace the missing values in each of the columns:"
   ]
  },
  {
   "cell_type": "code",
   "execution_count": 10,
   "metadata": {},
   "outputs": [],
   "source": [
    "columns_to_replace = ['track', 'artist', 'genre']\n",
    "for values in columns_to_replace:\n",
    "    df[values] = df[values].fillna('unknown')"
   ]
  },
  {
   "cell_type": "markdown",
   "metadata": {
    "id": "Ilsm-MZo_Zct"
   },
   "source": [
    "Make sure the table contains no more missing values. Count the missing values again."
   ]
  },
  {
   "cell_type": "code",
   "execution_count": 11,
   "metadata": {
    "id": "Tq4nYRX4_Zct"
   },
   "outputs": [
    {
     "name": "stdout",
     "output_type": "stream",
     "text": [
      "user_id    0\n",
      "track      0\n",
      "artist     0\n",
      "genre      0\n",
      "city       0\n",
      "time       0\n",
      "day        0\n",
      "dtype: int64\n"
     ]
    }
   ],
   "source": [
    "print(df.isna().sum())"
   ]
  },
  {
   "cell_type": "markdown",
   "metadata": {},
   "source": [
    "<div class=\"alert alert-block alert-success\">\n",
    "<b>Reviewer's comment</b> <a class=\"tocSkip\"></a><br>\n",
    "Well done! By the way we can check the percentage of missing values with this command:<br>\n",
    "<code>df.isnull().sum()/len(df)</code><br>\n",
    "It will provide an overall picture of missing values impact\n",
    "</div>"
   ]
  },
  {
   "cell_type": "markdown",
   "metadata": {
    "id": "74ZIBmq9VrsK"
   },
   "source": [
    "[Back to Contents](#back)"
   ]
  },
  {
   "cell_type": "markdown",
   "metadata": {
    "id": "BWKRtBJ3_Zct"
   },
   "source": [
    "### Duplicates <a id='duplicates'></a>\n",
    "Find the number of obvious duplicates in the table using one command:"
   ]
  },
  {
   "cell_type": "code",
   "execution_count": 12,
   "metadata": {
    "id": "36eES_S0_Zct"
   },
   "outputs": [
    {
     "data": {
      "text/plain": [
       "3826"
      ]
     },
     "execution_count": 12,
     "metadata": {},
     "output_type": "execute_result"
    }
   ],
   "source": [
    "df.duplicated().sum()"
   ]
  },
  {
   "cell_type": "markdown",
   "metadata": {
    "id": "Ot25h6XR_Zct"
   },
   "source": [
    "Call the `pandas` method for getting rid of obvious duplicates:"
   ]
  },
  {
   "cell_type": "code",
   "execution_count": 13,
   "metadata": {},
   "outputs": [],
   "source": [
    "df = df.drop_duplicates()\n"
   ]
  },
  {
   "cell_type": "markdown",
   "metadata": {
    "id": "Im2YwBEG_Zct"
   },
   "source": [
    "Count obvious duplicates once more to make sure you have removed all of them:"
   ]
  },
  {
   "cell_type": "code",
   "execution_count": 14,
   "metadata": {
    "id": "-8PuNWQ0_Zct"
   },
   "outputs": [
    {
     "data": {
      "text/plain": [
       "0"
      ]
     },
     "execution_count": 14,
     "metadata": {},
     "output_type": "execute_result"
    }
   ],
   "source": [
    "df.duplicated().sum()"
   ]
  },
  {
   "cell_type": "markdown",
   "metadata": {},
   "source": [
    "<div class=\"alert alert-block alert-success\">\n",
    "<b>Reviewer's comment</b> <a class=\"tocSkip\"></a><br>\n",
    "You correctly identified and removed duplicated rows, good job 👍\n",
    "</div>"
   ]
  },
  {
   "cell_type": "markdown",
   "metadata": {
    "id": "QlFBsxAr_Zct"
   },
   "source": [
    "Now get rid of implicit duplicates in the `genre` column. For example, the name of a genre can be written in different ways. Such errors will also affect the result."
   ]
  },
  {
   "cell_type": "code",
   "execution_count": 15,
   "metadata": {},
   "outputs": [
    {
     "data": {
      "text/plain": [
       "0            rock\n",
       "2             pop\n",
       "3            folk\n",
       "4           dance\n",
       "5          rusrap\n",
       "           ...   \n",
       "58641       irish\n",
       "60178    mandopop\n",
       "61779       forró\n",
       "62348       dirty\n",
       "64489    regional\n",
       "Name: genre, Length: 269, dtype: object"
      ]
     },
     "execution_count": 15,
     "metadata": {},
     "output_type": "execute_result"
    }
   ],
   "source": [
    "df['genre'].drop_duplicates()"
   ]
  },
  {
   "cell_type": "markdown",
   "metadata": {
    "id": "eSjWwsOh_Zct"
   },
   "source": [
    "Print a list of unique genre names, sorted in alphabetical order. To do so:\n",
    "* Retrieve the intended DataFrame column \n",
    "* Apply a sorting method to it\n",
    "* For the sorted column, call the method that will return all unique column values"
   ]
  },
  {
   "cell_type": "code",
   "execution_count": 16,
   "metadata": {
    "id": "JIUcqzZN_Zct"
   },
   "outputs": [
    {
     "name": "stdout",
     "output_type": "stream",
     "text": [
      "['acid' 'acoustic' 'action' 'adult' 'africa' 'afrikaans' 'alternative'\n",
      " 'ambient' 'americana' 'animated' 'anime' 'arabesk' 'arabic' 'arena'\n",
      " 'argentinetango' 'art' 'audiobook' 'avantgarde' 'axé' 'baile' 'balkan'\n",
      " 'beats' 'bigroom' 'black' 'bluegrass' 'blues' 'bollywood' 'bossa'\n",
      " 'brazilian' 'breakbeat' 'breaks' 'broadway' 'cantautori' 'cantopop'\n",
      " 'canzone' 'caribbean' 'caucasian' 'celtic' 'chamber' 'children' 'chill'\n",
      " 'chinese' 'choral' 'christian' 'christmas' 'classical' 'classicmetal'\n",
      " 'club' 'colombian' 'comedy' 'conjazz' 'contemporary' 'country' 'cuban'\n",
      " 'dance' 'dancehall' 'dancepop' 'dark' 'death' 'deep' 'deutschrock'\n",
      " 'deutschspr' 'dirty' 'disco' 'dnb' 'documentary' 'downbeat' 'downtempo'\n",
      " 'drum' 'dub' 'dubstep' 'eastern' 'easy' 'electronic' 'electropop' 'emo'\n",
      " 'entehno' 'epicmetal' 'estrada' 'ethnic' 'eurofolk' 'european'\n",
      " 'experimental' 'extrememetal' 'fado' 'film' 'fitness' 'flamenco' 'folk'\n",
      " 'folklore' 'folkmetal' 'folkrock' 'folktronica' 'forró' 'frankreich'\n",
      " 'französisch' 'french' 'funk' 'future' 'gangsta' 'garage' 'german'\n",
      " 'ghazal' 'gitarre' 'glitch' 'gospel' 'gothic' 'grime' 'grunge' 'gypsy'\n",
      " 'handsup' \"hard'n'heavy\" 'hardcore' 'hardstyle' 'hardtechno' 'hip'\n",
      " 'hip-hop' 'hiphop' 'historisch' 'holiday' 'hop' 'horror' 'house' 'idm'\n",
      " 'independent' 'indian' 'indie' 'indipop' 'industrial' 'inspirational'\n",
      " 'instrumental' 'international' 'irish' 'jam' 'japanese' 'jazz' 'jewish'\n",
      " 'jpop' 'jungle' 'k-pop' 'karadeniz' 'karaoke' 'kayokyoku' 'korean'\n",
      " 'laiko' 'latin' 'latino' 'leftfield' 'local' 'lounge' 'loungeelectronic'\n",
      " 'lovers' 'malaysian' 'mandopop' 'marschmusik' 'meditative'\n",
      " 'mediterranean' 'melodic' 'metal' 'metalcore' 'mexican' 'middle'\n",
      " 'minimal' 'miscellaneous' 'modern' 'mood' 'mpb' 'muslim' 'native'\n",
      " 'neoklassik' 'neue' 'new' 'newage' 'newwave' 'nu' 'nujazz' 'numetal'\n",
      " 'oceania' 'old' 'opera' 'orchestral' 'other' 'piano' 'pop'\n",
      " 'popelectronic' 'popeurodance' 'post' 'posthardcore' 'postrock' 'power'\n",
      " 'progmetal' 'progressive' 'psychedelic' 'punjabi' 'punk' 'quebecois'\n",
      " 'ragga' 'ram' 'rancheras' 'rap' 'rave' 'reggae' 'reggaeton' 'regional'\n",
      " 'relax' 'religious' 'retro' 'rhythm' 'rnb' 'rnr' 'rock' 'rockabilly'\n",
      " 'romance' 'roots' 'ruspop' 'rusrap' 'rusrock' 'salsa' 'samba' 'schlager'\n",
      " 'self' 'sertanejo' 'shoegazing' 'showtunes' 'singer' 'ska' 'slow'\n",
      " 'smooth' 'soul' 'soulful' 'sound' 'soundtrack' 'southern' 'specialty'\n",
      " 'speech' 'spiritual' 'sport' 'stonerrock' 'surf' 'swing' 'synthpop'\n",
      " 'sängerportrait' 'tango' 'tanzorchester' 'taraftar' 'tech' 'techno'\n",
      " 'thrash' 'top' 'traditional' 'tradjazz' 'trance' 'tribal' 'trip'\n",
      " 'triphop' 'tropical' 'türk' 'türkçe' 'unknown' 'urban' 'uzbek' 'variété'\n",
      " 'vi' 'videogame' 'vocal' 'western' 'world' 'worldbeat' 'ïîï']\n"
     ]
    }
   ],
   "source": [
    "print(df['genre'].sort_values().unique())"
   ]
  },
  {
   "cell_type": "markdown",
   "metadata": {
    "id": "qej-Qmuo_Zct"
   },
   "source": [
    "Look through the list to find implicit duplicates of the genre `hiphop`. These could be names written incorrectly or alternative names of the same genre.\n",
    "\n",
    "You will see the following implicit duplicates:\n",
    "* `hip`\n",
    "* `hop`\n",
    "* `hip-hop`\n",
    "\n",
    "To get rid of them, declare the function `replace_wrong_genres()` with two parameters: \n",
    "* `wrong_genres=` — the list of duplicates\n",
    "* `correct_genre=` — the string with the correct value\n",
    "\n",
    "The function should correct the names in the `'genre'` column from the `df` table, i.e. replace each value from the `wrong_genres` list with the value in `correct_genre`."
   ]
  },
  {
   "cell_type": "code",
   "execution_count": 18,
   "metadata": {
    "id": "ErNDkmns_Zct"
   },
   "outputs": [
    {
     "name": "stderr",
     "output_type": "stream",
     "text": [
      "/tmp/ipykernel_27/744501093.py:3: SettingWithCopyWarning: \n",
      "A value is trying to be set on a copy of a slice from a DataFrame.\n",
      "Try using .loc[row_indexer,col_indexer] = value instead\n",
      "\n",
      "See the caveats in the documentation: https://pandas.pydata.org/pandas-docs/stable/user_guide/indexing.html#returning-a-view-versus-a-copy\n",
      "  df['genre'] = df['genre'].replace(wrong_genres, correct_genre)\n"
     ]
    }
   ],
   "source": [
    "def replace_wrong_genres(wrong_genres, correct_genre):\n",
    "    for wrong_genre in wrong_genres:\n",
    "        df['genre'] = df['genre'].replace(wrong_genres, correct_genre)\n",
    "        \n",
    "\n",
    "\n",
    "wrong_genres = ['hip', 'hop', 'hip-hop']\n",
    "correct_genre = 'hiphop'\n",
    "\n",
    "replace_wrong_genres(wrong_genres,correct_genre)"
   ]
  },
  {
   "cell_type": "markdown",
   "metadata": {
    "id": "aDoBJxbA_Zct"
   },
   "source": [
    "Call `replace_wrong_genres()` and pass it arguments so that it clears implicit duplcates (`hip`, `hop`, and `hip-hop`) and replaces them with `hiphop`:"
   ]
  },
  {
   "cell_type": "code",
   "execution_count": 20,
   "metadata": {
    "id": "YN5i2hpmSo09"
   },
   "outputs": [
    {
     "name": "stderr",
     "output_type": "stream",
     "text": [
      "/tmp/ipykernel_27/243474441.py:3: SettingWithCopyWarning: \n",
      "A value is trying to be set on a copy of a slice from a DataFrame.\n",
      "Try using .loc[row_indexer,col_indexer] = value instead\n",
      "\n",
      "See the caveats in the documentation: https://pandas.pydata.org/pandas-docs/stable/user_guide/indexing.html#returning-a-view-versus-a-copy\n",
      "  df['genre'] = df['genre'].replace(wrong_genres, correct_genre)\n"
     ]
    }
   ],
   "source": [
    "def replace_wrong_genres(wrong_genres, correct_genre):\n",
    "    for wrong_genre in wrong_genres:\n",
    "        df['genre'] = df['genre'].replace(wrong_genres, correct_genre)\n",
    "        \n",
    "\n",
    "duplicates = ['hip', 'hop', 'hip-hop']\n",
    "name = 'hiphop'\n",
    "replace_wrong_genres(duplicates,name)"
   ]
  },
  {
   "cell_type": "markdown",
   "metadata": {},
   "source": [
    "<div class=\"alert alert-block alert-warning\">\n",
    "<b>Reviewers comment</b> <a class=\"tocSkip\"></a><br>\n",
    "We can suppress warning by using the following lines of code:\n",
    "<code>\n",
    "pd.options.mode.chained_assignment = None\n",
    "</code>  \n",
    "Invoking replace_wrong_genres() func once is enough to replace values\n",
    "</div>"
   ]
  },
  {
   "cell_type": "markdown",
   "metadata": {
    "id": "zQKF16_RG15m"
   },
   "source": [
    "Make sure the duplicate names were removed. Print the list of unique values from the `'genre'` column:"
   ]
  },
  {
   "cell_type": "code",
   "execution_count": 21,
   "metadata": {
    "id": "wvixALnFG15m"
   },
   "outputs": [
    {
     "name": "stdout",
     "output_type": "stream",
     "text": [
      "['acid' 'acoustic' 'action' 'adult' 'africa' 'afrikaans' 'alternative'\n",
      " 'ambient' 'americana' 'animated' 'anime' 'arabesk' 'arabic' 'arena'\n",
      " 'argentinetango' 'art' 'audiobook' 'avantgarde' 'axé' 'baile' 'balkan'\n",
      " 'beats' 'bigroom' 'black' 'bluegrass' 'blues' 'bollywood' 'bossa'\n",
      " 'brazilian' 'breakbeat' 'breaks' 'broadway' 'cantautori' 'cantopop'\n",
      " 'canzone' 'caribbean' 'caucasian' 'celtic' 'chamber' 'children' 'chill'\n",
      " 'chinese' 'choral' 'christian' 'christmas' 'classical' 'classicmetal'\n",
      " 'club' 'colombian' 'comedy' 'conjazz' 'contemporary' 'country' 'cuban'\n",
      " 'dance' 'dancehall' 'dancepop' 'dark' 'death' 'deep' 'deutschrock'\n",
      " 'deutschspr' 'dirty' 'disco' 'dnb' 'documentary' 'downbeat' 'downtempo'\n",
      " 'drum' 'dub' 'dubstep' 'eastern' 'easy' 'electronic' 'electropop' 'emo'\n",
      " 'entehno' 'epicmetal' 'estrada' 'ethnic' 'eurofolk' 'european'\n",
      " 'experimental' 'extrememetal' 'fado' 'film' 'fitness' 'flamenco' 'folk'\n",
      " 'folklore' 'folkmetal' 'folkrock' 'folktronica' 'forró' 'frankreich'\n",
      " 'französisch' 'french' 'funk' 'future' 'gangsta' 'garage' 'german'\n",
      " 'ghazal' 'gitarre' 'glitch' 'gospel' 'gothic' 'grime' 'grunge' 'gypsy'\n",
      " 'handsup' \"hard'n'heavy\" 'hardcore' 'hardstyle' 'hardtechno' 'hiphop'\n",
      " 'historisch' 'holiday' 'horror' 'house' 'idm' 'independent' 'indian'\n",
      " 'indie' 'indipop' 'industrial' 'inspirational' 'instrumental'\n",
      " 'international' 'irish' 'jam' 'japanese' 'jazz' 'jewish' 'jpop' 'jungle'\n",
      " 'k-pop' 'karadeniz' 'karaoke' 'kayokyoku' 'korean' 'laiko' 'latin'\n",
      " 'latino' 'leftfield' 'local' 'lounge' 'loungeelectronic' 'lovers'\n",
      " 'malaysian' 'mandopop' 'marschmusik' 'meditative' 'mediterranean'\n",
      " 'melodic' 'metal' 'metalcore' 'mexican' 'middle' 'minimal'\n",
      " 'miscellaneous' 'modern' 'mood' 'mpb' 'muslim' 'native' 'neoklassik'\n",
      " 'neue' 'new' 'newage' 'newwave' 'nu' 'nujazz' 'numetal' 'oceania' 'old'\n",
      " 'opera' 'orchestral' 'other' 'piano' 'pop' 'popelectronic' 'popeurodance'\n",
      " 'post' 'posthardcore' 'postrock' 'power' 'progmetal' 'progressive'\n",
      " 'psychedelic' 'punjabi' 'punk' 'quebecois' 'ragga' 'ram' 'rancheras'\n",
      " 'rap' 'rave' 'reggae' 'reggaeton' 'regional' 'relax' 'religious' 'retro'\n",
      " 'rhythm' 'rnb' 'rnr' 'rock' 'rockabilly' 'romance' 'roots' 'ruspop'\n",
      " 'rusrap' 'rusrock' 'salsa' 'samba' 'schlager' 'self' 'sertanejo'\n",
      " 'shoegazing' 'showtunes' 'singer' 'ska' 'slow' 'smooth' 'soul' 'soulful'\n",
      " 'sound' 'soundtrack' 'southern' 'specialty' 'speech' 'spiritual' 'sport'\n",
      " 'stonerrock' 'surf' 'swing' 'synthpop' 'sängerportrait' 'tango'\n",
      " 'tanzorchester' 'taraftar' 'tech' 'techno' 'thrash' 'top' 'traditional'\n",
      " 'tradjazz' 'trance' 'tribal' 'trip' 'triphop' 'tropical' 'türk' 'türkçe'\n",
      " 'unknown' 'urban' 'uzbek' 'variété' 'vi' 'videogame' 'vocal' 'western'\n",
      " 'world' 'worldbeat' 'ïîï']\n"
     ]
    }
   ],
   "source": [
    "print(df['genre'].sort_values().unique())"
   ]
  },
  {
   "cell_type": "markdown",
   "metadata": {},
   "source": [
    "<div class=\"alert alert-block alert-success\">\n",
    "<b>Reviewer's comment</b> <a class=\"tocSkip\"></a><br>\n",
    "Nice, data preprocessing function works as expected!\n",
    "</div>"
   ]
  },
  {
   "cell_type": "markdown",
   "metadata": {
    "id": "ALgNbvF3VtPA"
   },
   "source": [
    "[Back to Contents](#back)"
   ]
  },
  {
   "cell_type": "markdown",
   "metadata": {
    "id": "jz6a9-7HQUDd"
   },
   "source": [
    "### Conclusions <a id='data_preprocessing_conclusions'></a>\n",
    "We detected three issues with the data:\n",
    "\n",
    "- Incorrect header styles\n",
    "- Missing values\n",
    "- Obvious and implicit duplicates\n",
    "\n",
    "The headers have been cleaned up to make processing the table simpler.\n",
    "\n",
    "All missing values have been replaced with `'unknown'`. But we still have to see whether the missing values in `'genre'` will affect our calculations.\n",
    "\n",
    "The absence of duplicates will make the results more precise and easier to understand.\n",
    "\n",
    "Now we can move on to testing hypotheses. "
   ]
  },
  {
   "cell_type": "markdown",
   "metadata": {
    "id": "eK1es74rVujj"
   },
   "source": [
    "[Back to Contents](#back)"
   ]
  },
  {
   "cell_type": "markdown",
   "metadata": {
    "id": "WttZHXH0SqKk"
   },
   "source": [
    "## Stage 3. Testing hypotheses <a id='hypotheses'></a>"
   ]
  },
  {
   "cell_type": "markdown",
   "metadata": {
    "id": "Im936VVi_Zcu"
   },
   "source": [
    "### Hypothesis 1: comparing user behavior in two cities <a id='activity'></a>"
   ]
  },
  {
   "cell_type": "markdown",
   "metadata": {
    "id": "nwt_MuaL_Zcu"
   },
   "source": [
    "According to the first hypothesis, users from Springfield and Shelbyville listen to music differently. Test this using the data on three days of the week: Monday, Wednesday, and Friday.\n",
    "\n",
    "* Divide the users into groups by city.\n",
    "* Compare how many tracks each group played on Monday, Wednesday, and Friday.\n"
   ]
  },
  {
   "cell_type": "markdown",
   "metadata": {
    "id": "8Dw_YMmT_Zcu"
   },
   "source": [
    "For the sake of practice, perform each computation separately. \n",
    "\n",
    "Evaluate user activity in each city. Group the data by city and find the number of songs played in each group.\n",
    "\n"
   ]
  },
  {
   "cell_type": "code",
   "execution_count": 22,
   "metadata": {},
   "outputs": [
    {
     "data": {
      "text/html": [
       "<div>\n",
       "<style scoped>\n",
       "    .dataframe tbody tr th:only-of-type {\n",
       "        vertical-align: middle;\n",
       "    }\n",
       "\n",
       "    .dataframe tbody tr th {\n",
       "        vertical-align: top;\n",
       "    }\n",
       "\n",
       "    .dataframe thead th {\n",
       "        text-align: right;\n",
       "    }\n",
       "</style>\n",
       "<table border=\"1\" class=\"dataframe\">\n",
       "  <thead>\n",
       "    <tr style=\"text-align: right;\">\n",
       "      <th></th>\n",
       "      <th>user_id</th>\n",
       "      <th>track</th>\n",
       "      <th>artist</th>\n",
       "      <th>genre</th>\n",
       "      <th>time</th>\n",
       "      <th>day</th>\n",
       "    </tr>\n",
       "    <tr>\n",
       "      <th>city</th>\n",
       "      <th></th>\n",
       "      <th></th>\n",
       "      <th></th>\n",
       "      <th></th>\n",
       "      <th></th>\n",
       "      <th></th>\n",
       "    </tr>\n",
       "  </thead>\n",
       "  <tbody>\n",
       "    <tr>\n",
       "      <th>Shelbyville</th>\n",
       "      <td>18512</td>\n",
       "      <td>18512</td>\n",
       "      <td>18512</td>\n",
       "      <td>18512</td>\n",
       "      <td>18512</td>\n",
       "      <td>18512</td>\n",
       "    </tr>\n",
       "    <tr>\n",
       "      <th>Springfield</th>\n",
       "      <td>42741</td>\n",
       "      <td>42741</td>\n",
       "      <td>42741</td>\n",
       "      <td>42741</td>\n",
       "      <td>42741</td>\n",
       "      <td>42741</td>\n",
       "    </tr>\n",
       "  </tbody>\n",
       "</table>\n",
       "</div>"
      ],
      "text/plain": [
       "             user_id  track  artist  genre   time    day\n",
       "city                                                    \n",
       "Shelbyville    18512  18512   18512  18512  18512  18512\n",
       "Springfield    42741  42741   42741  42741  42741  42741"
      ]
     },
     "execution_count": 22,
     "metadata": {},
     "output_type": "execute_result"
    }
   ],
   "source": [
    "df.groupby('city').count()"
   ]
  },
  {
   "cell_type": "markdown",
   "metadata": {
    "id": "dzli3w8o_Zcu"
   },
   "source": [
    "Springfield has more tracks played than Shelbyville. But that does not imply that citizens of Springfield listen to music more often. This city is simply bigger, and there are more users.\n",
    "\n",
    "Now group the data by day of the week and find the number of tracks played on Monday, Wednesday, and Friday.\n"
   ]
  },
  {
   "cell_type": "code",
   "execution_count": 23,
   "metadata": {
    "id": "uZMKjiJz_Zcu"
   },
   "outputs": [
    {
     "data": {
      "text/html": [
       "<div>\n",
       "<style scoped>\n",
       "    .dataframe tbody tr th:only-of-type {\n",
       "        vertical-align: middle;\n",
       "    }\n",
       "\n",
       "    .dataframe tbody tr th {\n",
       "        vertical-align: top;\n",
       "    }\n",
       "\n",
       "    .dataframe thead th {\n",
       "        text-align: right;\n",
       "    }\n",
       "</style>\n",
       "<table border=\"1\" class=\"dataframe\">\n",
       "  <thead>\n",
       "    <tr style=\"text-align: right;\">\n",
       "      <th></th>\n",
       "      <th>user_id</th>\n",
       "      <th>track</th>\n",
       "      <th>artist</th>\n",
       "      <th>genre</th>\n",
       "      <th>city</th>\n",
       "      <th>time</th>\n",
       "    </tr>\n",
       "    <tr>\n",
       "      <th>day</th>\n",
       "      <th></th>\n",
       "      <th></th>\n",
       "      <th></th>\n",
       "      <th></th>\n",
       "      <th></th>\n",
       "      <th></th>\n",
       "    </tr>\n",
       "  </thead>\n",
       "  <tbody>\n",
       "    <tr>\n",
       "      <th>Friday</th>\n",
       "      <td>21840</td>\n",
       "      <td>21840</td>\n",
       "      <td>21840</td>\n",
       "      <td>21840</td>\n",
       "      <td>21840</td>\n",
       "      <td>21840</td>\n",
       "    </tr>\n",
       "    <tr>\n",
       "      <th>Monday</th>\n",
       "      <td>21354</td>\n",
       "      <td>21354</td>\n",
       "      <td>21354</td>\n",
       "      <td>21354</td>\n",
       "      <td>21354</td>\n",
       "      <td>21354</td>\n",
       "    </tr>\n",
       "    <tr>\n",
       "      <th>Wednesday</th>\n",
       "      <td>18059</td>\n",
       "      <td>18059</td>\n",
       "      <td>18059</td>\n",
       "      <td>18059</td>\n",
       "      <td>18059</td>\n",
       "      <td>18059</td>\n",
       "    </tr>\n",
       "  </tbody>\n",
       "</table>\n",
       "</div>"
      ],
      "text/plain": [
       "           user_id  track  artist  genre   city   time\n",
       "day                                                   \n",
       "Friday       21840  21840   21840  21840  21840  21840\n",
       "Monday       21354  21354   21354  21354  21354  21354\n",
       "Wednesday    18059  18059   18059  18059  18059  18059"
      ]
     },
     "execution_count": 23,
     "metadata": {},
     "output_type": "execute_result"
    }
   ],
   "source": [
    "df.groupby('day').count()"
   ]
  },
  {
   "cell_type": "markdown",
   "metadata": {},
   "source": [
    "<div class=\"alert alert-block alert-success\">\n",
    "<b>Reviewer's comment</b> <a class=\"tocSkip\"></a><br>\n",
    "Well done here!  \n",
    "The only suggestion is to apply grouping by 2 columns, to get a result in an aggregated column, for example:\n",
    "<code>\n",
    "df.groupby('day')['city'].count()  \n",
    "</code>   \n",
    "</div>"
   ]
  },
  {
   "cell_type": "markdown",
   "metadata": {
    "id": "cC2tNrlL_Zcu"
   },
   "source": [
    "Wednesday is the quietest day overall. But if we consider the two cities separately, we might come to a different conclusion."
   ]
  },
  {
   "cell_type": "markdown",
   "metadata": {
    "id": "POzs8bGa_Zcu"
   },
   "source": [
    "You have seen how grouping by city or day works. Now write a function that will group by both.\n",
    "\n",
    "Create the `number_tracks()` function to calculate the number of songs played for a given day and city. It will require two parameters:\n",
    "* day of the week\n",
    "* name of the city\n",
    "\n",
    "In the function, use a variable to store the rows from the original table, where:\n",
    "  * `'day'` column value is equal to the `day` parameter\n",
    "  * `'city'` column value is equal to the `city` parameter\n",
    "\n",
    "Apply consecutive filtering with logical indexing.\n",
    "\n",
    "Then calculate the `'user_id'` column values in the resulting table. Store the result to a new variable. Return this variable from the function."
   ]
  },
  {
   "cell_type": "code",
   "execution_count": 24,
   "metadata": {
    "id": "Nz3GdQB1_Zcu"
   },
   "outputs": [],
   "source": [
    "def number_tracks(day,city):\n",
    "    track_list = df[(df['day'] == day) & (df['city'] == city)]\n",
    "    track_list_count = track_list['user_id'].count()\n",
    "    return track_list_count\n",
    "\n"
   ]
  },
  {
   "cell_type": "markdown",
   "metadata": {
    "id": "ytf7xFrFJQ2r"
   },
   "source": [
    "Call `number_tracks()` six times, changing the parameter values, so that you retrieve the data on both cities for each of the three days."
   ]
  },
  {
   "cell_type": "code",
   "execution_count": 25,
   "metadata": {
    "id": "rJcRATNQ_Zcu"
   },
   "outputs": [
    {
     "data": {
      "text/plain": [
       "15740"
      ]
     },
     "execution_count": 25,
     "metadata": {},
     "output_type": "execute_result"
    }
   ],
   "source": [
    "number_tracks('Monday', 'Springfield')"
   ]
  },
  {
   "cell_type": "code",
   "execution_count": 26,
   "metadata": {
    "id": "hq_ncZ5T_Zcu"
   },
   "outputs": [
    {
     "data": {
      "text/plain": [
       "5614"
      ]
     },
     "execution_count": 26,
     "metadata": {},
     "output_type": "execute_result"
    }
   ],
   "source": [
    "number_tracks('Monday', 'Shelbyville')"
   ]
  },
  {
   "cell_type": "code",
   "execution_count": 27,
   "metadata": {
    "id": "_NTy2VPU_Zcu"
   },
   "outputs": [
    {
     "data": {
      "text/plain": [
       "11056"
      ]
     },
     "execution_count": 27,
     "metadata": {},
     "output_type": "execute_result"
    }
   ],
   "source": [
    "number_tracks('Wednesday', 'Springfield')"
   ]
  },
  {
   "cell_type": "code",
   "execution_count": 28,
   "metadata": {
    "id": "j2y3TAwo_Zcu"
   },
   "outputs": [
    {
     "data": {
      "text/plain": [
       "7003"
      ]
     },
     "execution_count": 28,
     "metadata": {},
     "output_type": "execute_result"
    }
   ],
   "source": [
    "number_tracks('Wednesday', 'Shelbyville')"
   ]
  },
  {
   "cell_type": "code",
   "execution_count": 29,
   "metadata": {
    "id": "vYDw5u_K_Zcu"
   },
   "outputs": [
    {
     "data": {
      "text/plain": [
       "15945"
      ]
     },
     "execution_count": 29,
     "metadata": {},
     "output_type": "execute_result"
    }
   ],
   "source": [
    "number_tracks('Friday', 'Springfield')"
   ]
  },
  {
   "cell_type": "code",
   "execution_count": 30,
   "metadata": {
    "id": "8_yzFtW3_Zcu"
   },
   "outputs": [
    {
     "data": {
      "text/plain": [
       "5895"
      ]
     },
     "execution_count": 30,
     "metadata": {},
     "output_type": "execute_result"
    }
   ],
   "source": [
    "number_tracks('Friday', 'Shelbyville')"
   ]
  },
  {
   "cell_type": "markdown",
   "metadata": {},
   "source": [
    "<div class=\"alert alert-block alert-success\">\n",
    "<b>Reviewer's comment</b> <a class=\"tocSkip\"></a><br>\n",
    "Great, the funcion works as expected!\n",
    "</div>"
   ]
  },
  {
   "cell_type": "markdown",
   "metadata": {
    "id": "7QXffbO-_Zcu"
   },
   "source": [
    "Use `pd.DataFrame` to create a table, where\n",
    "* Column names are: `['city', 'monday', 'wednesday', 'friday']`\n",
    "* The data is the results you got from `number_tracks()`"
   ]
  },
  {
   "cell_type": "code",
   "execution_count": 31,
   "metadata": {
    "id": "APAcLpOr_Zcu"
   },
   "outputs": [],
   "source": [
    "table = pd.DataFrame([['Springfield', 15740, 11056, 15945], ['Shelbyville', 5614, 7003, 5895]],\n",
    "                     columns=['city', 'monday', 'wednesday', 'friday'])\n",
    "\n",
    "\n"
   ]
  },
  {
   "cell_type": "code",
   "execution_count": 32,
   "metadata": {
    "scrolled": true
   },
   "outputs": [
    {
     "data": {
      "text/html": [
       "<div>\n",
       "<style scoped>\n",
       "    .dataframe tbody tr th:only-of-type {\n",
       "        vertical-align: middle;\n",
       "    }\n",
       "\n",
       "    .dataframe tbody tr th {\n",
       "        vertical-align: top;\n",
       "    }\n",
       "\n",
       "    .dataframe thead th {\n",
       "        text-align: right;\n",
       "    }\n",
       "</style>\n",
       "<table border=\"1\" class=\"dataframe\">\n",
       "  <thead>\n",
       "    <tr style=\"text-align: right;\">\n",
       "      <th></th>\n",
       "      <th>city</th>\n",
       "      <th>monday</th>\n",
       "      <th>wednesday</th>\n",
       "      <th>friday</th>\n",
       "    </tr>\n",
       "  </thead>\n",
       "  <tbody>\n",
       "    <tr>\n",
       "      <th>0</th>\n",
       "      <td>Springfield</td>\n",
       "      <td>15740</td>\n",
       "      <td>11056</td>\n",
       "      <td>15945</td>\n",
       "    </tr>\n",
       "    <tr>\n",
       "      <th>1</th>\n",
       "      <td>Shelbyville</td>\n",
       "      <td>5614</td>\n",
       "      <td>7003</td>\n",
       "      <td>5895</td>\n",
       "    </tr>\n",
       "  </tbody>\n",
       "</table>\n",
       "</div>"
      ],
      "text/plain": [
       "          city  monday  wednesday  friday\n",
       "0  Springfield   15740      11056   15945\n",
       "1  Shelbyville    5614       7003    5895"
      ]
     },
     "execution_count": 32,
     "metadata": {},
     "output_type": "execute_result"
    }
   ],
   "source": [
    "table"
   ]
  },
  {
   "cell_type": "markdown",
   "metadata": {
    "id": "-EgPIHYu_Zcu"
   },
   "source": [
    "**Conclusions**\n",
    "\n",
    "The data reveals differences in user behavior:\n",
    "\n",
    "- In Springfield, the number of songs played peaks on Mondays and Fridays, while on Wednesday there is a decrease in activity.\n",
    "- In Shelbyville, on the contrary, users listen to music more on Wednesday. User activity on Monday and Friday is smaller.\n",
    "\n",
    "So the first hypothesis seems to be correct."
   ]
  },
  {
   "cell_type": "markdown",
   "metadata": {
    "id": "p7nFQajCVw5B"
   },
   "source": [
    "[Back to Contents](#back)"
   ]
  },
  {
   "cell_type": "markdown",
   "metadata": {
    "id": "atZAxtq4_Zcu"
   },
   "source": [
    "### Hypothesis 2: music at the beginning and end of the week <a id='week'></a>"
   ]
  },
  {
   "cell_type": "markdown",
   "metadata": {
    "id": "eXrQqXFH_Zcu"
   },
   "source": [
    "According to the second hypothesis, on Monday morning and Friday night, citizens of Springfield listen to genres that differ from ones users from Shelbyville enjoy."
   ]
  },
  {
   "cell_type": "markdown",
   "metadata": {
    "id": "S8UcW6Hw_Zcu"
   },
   "source": [
    "Get tables (make sure that the name of your combined table matches the DataFrame given in the two code blocks below):\n",
    "* For Springfield — `spr_general`\n",
    "* For Shelbyville — `shel_general`"
   ]
  },
  {
   "cell_type": "code",
   "execution_count": 33,
   "metadata": {
    "id": "qeaFfM_P_Zcu",
    "pycharm": {
     "is_executing": true
    }
   },
   "outputs": [],
   "source": [
    "spr_general = df[df['city'] == 'Springfield']"
   ]
  },
  {
   "cell_type": "code",
   "execution_count": 34,
   "metadata": {},
   "outputs": [
    {
     "data": {
      "text/html": [
       "<div>\n",
       "<style scoped>\n",
       "    .dataframe tbody tr th:only-of-type {\n",
       "        vertical-align: middle;\n",
       "    }\n",
       "\n",
       "    .dataframe tbody tr th {\n",
       "        vertical-align: top;\n",
       "    }\n",
       "\n",
       "    .dataframe thead th {\n",
       "        text-align: right;\n",
       "    }\n",
       "</style>\n",
       "<table border=\"1\" class=\"dataframe\">\n",
       "  <thead>\n",
       "    <tr style=\"text-align: right;\">\n",
       "      <th></th>\n",
       "      <th>user_id</th>\n",
       "      <th>track</th>\n",
       "      <th>artist</th>\n",
       "      <th>genre</th>\n",
       "      <th>city</th>\n",
       "      <th>time</th>\n",
       "      <th>day</th>\n",
       "    </tr>\n",
       "  </thead>\n",
       "  <tbody>\n",
       "    <tr>\n",
       "      <th>1</th>\n",
       "      <td>55204538</td>\n",
       "      <td>Delayed Because of Accident</td>\n",
       "      <td>Andreas Rönnberg</td>\n",
       "      <td>rock</td>\n",
       "      <td>Springfield</td>\n",
       "      <td>14:07:09</td>\n",
       "      <td>Friday</td>\n",
       "    </tr>\n",
       "    <tr>\n",
       "      <th>4</th>\n",
       "      <td>E2DC1FAE</td>\n",
       "      <td>Soul People</td>\n",
       "      <td>Space Echo</td>\n",
       "      <td>dance</td>\n",
       "      <td>Springfield</td>\n",
       "      <td>08:34:34</td>\n",
       "      <td>Monday</td>\n",
       "    </tr>\n",
       "    <tr>\n",
       "      <th>6</th>\n",
       "      <td>4CB90AA5</td>\n",
       "      <td>True</td>\n",
       "      <td>Roman Messer</td>\n",
       "      <td>dance</td>\n",
       "      <td>Springfield</td>\n",
       "      <td>13:00:07</td>\n",
       "      <td>Wednesday</td>\n",
       "    </tr>\n",
       "    <tr>\n",
       "      <th>7</th>\n",
       "      <td>F03E1C1F</td>\n",
       "      <td>Feeling This Way</td>\n",
       "      <td>Polina Griffith</td>\n",
       "      <td>dance</td>\n",
       "      <td>Springfield</td>\n",
       "      <td>20:47:49</td>\n",
       "      <td>Wednesday</td>\n",
       "    </tr>\n",
       "    <tr>\n",
       "      <th>8</th>\n",
       "      <td>8FA1D3BE</td>\n",
       "      <td>L’estate</td>\n",
       "      <td>Julia Dalia</td>\n",
       "      <td>ruspop</td>\n",
       "      <td>Springfield</td>\n",
       "      <td>09:17:40</td>\n",
       "      <td>Friday</td>\n",
       "    </tr>\n",
       "    <tr>\n",
       "      <th>...</th>\n",
       "      <td>...</td>\n",
       "      <td>...</td>\n",
       "      <td>...</td>\n",
       "      <td>...</td>\n",
       "      <td>...</td>\n",
       "      <td>...</td>\n",
       "      <td>...</td>\n",
       "    </tr>\n",
       "    <tr>\n",
       "      <th>65073</th>\n",
       "      <td>83A474E7</td>\n",
       "      <td>I Worship Only What You Bleed</td>\n",
       "      <td>The Black Dahlia Murder</td>\n",
       "      <td>extrememetal</td>\n",
       "      <td>Springfield</td>\n",
       "      <td>21:07:12</td>\n",
       "      <td>Monday</td>\n",
       "    </tr>\n",
       "    <tr>\n",
       "      <th>65074</th>\n",
       "      <td>729CBB09</td>\n",
       "      <td>My Name</td>\n",
       "      <td>McLean</td>\n",
       "      <td>rnb</td>\n",
       "      <td>Springfield</td>\n",
       "      <td>13:32:28</td>\n",
       "      <td>Wednesday</td>\n",
       "    </tr>\n",
       "    <tr>\n",
       "      <th>65076</th>\n",
       "      <td>C5E3A0D5</td>\n",
       "      <td>Jalopiina</td>\n",
       "      <td>unknown</td>\n",
       "      <td>industrial</td>\n",
       "      <td>Springfield</td>\n",
       "      <td>20:09:26</td>\n",
       "      <td>Friday</td>\n",
       "    </tr>\n",
       "    <tr>\n",
       "      <th>65077</th>\n",
       "      <td>321D0506</td>\n",
       "      <td>Freight Train</td>\n",
       "      <td>Chas McDevitt</td>\n",
       "      <td>rock</td>\n",
       "      <td>Springfield</td>\n",
       "      <td>21:43:59</td>\n",
       "      <td>Friday</td>\n",
       "    </tr>\n",
       "    <tr>\n",
       "      <th>65078</th>\n",
       "      <td>3A64EF84</td>\n",
       "      <td>Tell Me Sweet Little Lies</td>\n",
       "      <td>Monica Lopez</td>\n",
       "      <td>country</td>\n",
       "      <td>Springfield</td>\n",
       "      <td>21:59:46</td>\n",
       "      <td>Friday</td>\n",
       "    </tr>\n",
       "  </tbody>\n",
       "</table>\n",
       "<p>42741 rows × 7 columns</p>\n",
       "</div>"
      ],
      "text/plain": [
       "        user_id                          track                   artist  \\\n",
       "1      55204538    Delayed Because of Accident         Andreas Rönnberg   \n",
       "4      E2DC1FAE                    Soul People               Space Echo   \n",
       "6      4CB90AA5                           True             Roman Messer   \n",
       "7      F03E1C1F               Feeling This Way          Polina Griffith   \n",
       "8      8FA1D3BE                       L’estate              Julia Dalia   \n",
       "...         ...                            ...                      ...   \n",
       "65073  83A474E7  I Worship Only What You Bleed  The Black Dahlia Murder   \n",
       "65074  729CBB09                        My Name                   McLean   \n",
       "65076  C5E3A0D5                      Jalopiina                  unknown   \n",
       "65077  321D0506                  Freight Train            Chas McDevitt   \n",
       "65078  3A64EF84      Tell Me Sweet Little Lies             Monica Lopez   \n",
       "\n",
       "              genre         city      time        day  \n",
       "1              rock  Springfield  14:07:09     Friday  \n",
       "4             dance  Springfield  08:34:34     Monday  \n",
       "6             dance  Springfield  13:00:07  Wednesday  \n",
       "7             dance  Springfield  20:47:49  Wednesday  \n",
       "8            ruspop  Springfield  09:17:40     Friday  \n",
       "...             ...          ...       ...        ...  \n",
       "65073  extrememetal  Springfield  21:07:12     Monday  \n",
       "65074           rnb  Springfield  13:32:28  Wednesday  \n",
       "65076    industrial  Springfield  20:09:26     Friday  \n",
       "65077          rock  Springfield  21:43:59     Friday  \n",
       "65078       country  Springfield  21:59:46     Friday  \n",
       "\n",
       "[42741 rows x 7 columns]"
      ]
     },
     "execution_count": 34,
     "metadata": {},
     "output_type": "execute_result"
    }
   ],
   "source": [
    "spr_general"
   ]
  },
  {
   "cell_type": "code",
   "execution_count": 35,
   "metadata": {
    "id": "ORaVRKto_Zcu"
   },
   "outputs": [],
   "source": [
    "shel_general = df[df['city'] == 'Shelbyville']"
   ]
  },
  {
   "cell_type": "code",
   "execution_count": 36,
   "metadata": {},
   "outputs": [
    {
     "data": {
      "text/html": [
       "<div>\n",
       "<style scoped>\n",
       "    .dataframe tbody tr th:only-of-type {\n",
       "        vertical-align: middle;\n",
       "    }\n",
       "\n",
       "    .dataframe tbody tr th {\n",
       "        vertical-align: top;\n",
       "    }\n",
       "\n",
       "    .dataframe thead th {\n",
       "        text-align: right;\n",
       "    }\n",
       "</style>\n",
       "<table border=\"1\" class=\"dataframe\">\n",
       "  <thead>\n",
       "    <tr style=\"text-align: right;\">\n",
       "      <th></th>\n",
       "      <th>user_id</th>\n",
       "      <th>track</th>\n",
       "      <th>artist</th>\n",
       "      <th>genre</th>\n",
       "      <th>city</th>\n",
       "      <th>time</th>\n",
       "      <th>day</th>\n",
       "    </tr>\n",
       "  </thead>\n",
       "  <tbody>\n",
       "    <tr>\n",
       "      <th>0</th>\n",
       "      <td>FFB692EC</td>\n",
       "      <td>Kamigata To Boots</td>\n",
       "      <td>The Mass Missile</td>\n",
       "      <td>rock</td>\n",
       "      <td>Shelbyville</td>\n",
       "      <td>20:28:33</td>\n",
       "      <td>Wednesday</td>\n",
       "    </tr>\n",
       "    <tr>\n",
       "      <th>2</th>\n",
       "      <td>20EC38</td>\n",
       "      <td>Funiculì funiculà</td>\n",
       "      <td>Mario Lanza</td>\n",
       "      <td>pop</td>\n",
       "      <td>Shelbyville</td>\n",
       "      <td>20:58:07</td>\n",
       "      <td>Wednesday</td>\n",
       "    </tr>\n",
       "    <tr>\n",
       "      <th>3</th>\n",
       "      <td>A3DD03C9</td>\n",
       "      <td>Dragons in the Sunset</td>\n",
       "      <td>Fire + Ice</td>\n",
       "      <td>folk</td>\n",
       "      <td>Shelbyville</td>\n",
       "      <td>08:37:09</td>\n",
       "      <td>Monday</td>\n",
       "    </tr>\n",
       "    <tr>\n",
       "      <th>5</th>\n",
       "      <td>842029A1</td>\n",
       "      <td>Chains</td>\n",
       "      <td>Obladaet</td>\n",
       "      <td>rusrap</td>\n",
       "      <td>Shelbyville</td>\n",
       "      <td>13:09:41</td>\n",
       "      <td>Friday</td>\n",
       "    </tr>\n",
       "    <tr>\n",
       "      <th>9</th>\n",
       "      <td>E772D5C0</td>\n",
       "      <td>Pessimist</td>\n",
       "      <td>unknown</td>\n",
       "      <td>dance</td>\n",
       "      <td>Shelbyville</td>\n",
       "      <td>21:20:49</td>\n",
       "      <td>Wednesday</td>\n",
       "    </tr>\n",
       "    <tr>\n",
       "      <th>...</th>\n",
       "      <td>...</td>\n",
       "      <td>...</td>\n",
       "      <td>...</td>\n",
       "      <td>...</td>\n",
       "      <td>...</td>\n",
       "      <td>...</td>\n",
       "      <td>...</td>\n",
       "    </tr>\n",
       "    <tr>\n",
       "      <th>65063</th>\n",
       "      <td>D94F810B</td>\n",
       "      <td>Theme from the Walking Dead</td>\n",
       "      <td>Proyecto Halloween</td>\n",
       "      <td>film</td>\n",
       "      <td>Shelbyville</td>\n",
       "      <td>21:14:40</td>\n",
       "      <td>Monday</td>\n",
       "    </tr>\n",
       "    <tr>\n",
       "      <th>65064</th>\n",
       "      <td>BC8EC5CF</td>\n",
       "      <td>Red Lips: Gta (Rover Rework)</td>\n",
       "      <td>Rover</td>\n",
       "      <td>electronic</td>\n",
       "      <td>Shelbyville</td>\n",
       "      <td>21:06:50</td>\n",
       "      <td>Monday</td>\n",
       "    </tr>\n",
       "    <tr>\n",
       "      <th>65065</th>\n",
       "      <td>29E04611</td>\n",
       "      <td>Bre Petrunko</td>\n",
       "      <td>Perunika Trio</td>\n",
       "      <td>world</td>\n",
       "      <td>Shelbyville</td>\n",
       "      <td>13:56:00</td>\n",
       "      <td>Monday</td>\n",
       "    </tr>\n",
       "    <tr>\n",
       "      <th>65066</th>\n",
       "      <td>1B91C621</td>\n",
       "      <td>(Hello) Cloud Mountain</td>\n",
       "      <td>sleepmakeswaves</td>\n",
       "      <td>postrock</td>\n",
       "      <td>Shelbyville</td>\n",
       "      <td>09:22:13</td>\n",
       "      <td>Monday</td>\n",
       "    </tr>\n",
       "    <tr>\n",
       "      <th>65075</th>\n",
       "      <td>D08D4A55</td>\n",
       "      <td>Maybe One Day (feat. Black Spade)</td>\n",
       "      <td>Blu &amp; Exile</td>\n",
       "      <td>hiphop</td>\n",
       "      <td>Shelbyville</td>\n",
       "      <td>10:00:00</td>\n",
       "      <td>Monday</td>\n",
       "    </tr>\n",
       "  </tbody>\n",
       "</table>\n",
       "<p>18512 rows × 7 columns</p>\n",
       "</div>"
      ],
      "text/plain": [
       "        user_id                              track              artist  \\\n",
       "0      FFB692EC                  Kamigata To Boots    The Mass Missile   \n",
       "2        20EC38                  Funiculì funiculà         Mario Lanza   \n",
       "3      A3DD03C9              Dragons in the Sunset          Fire + Ice   \n",
       "5      842029A1                             Chains            Obladaet   \n",
       "9      E772D5C0                          Pessimist             unknown   \n",
       "...         ...                                ...                 ...   \n",
       "65063  D94F810B        Theme from the Walking Dead  Proyecto Halloween   \n",
       "65064  BC8EC5CF       Red Lips: Gta (Rover Rework)               Rover   \n",
       "65065  29E04611                       Bre Petrunko       Perunika Trio   \n",
       "65066  1B91C621             (Hello) Cloud Mountain     sleepmakeswaves   \n",
       "65075  D08D4A55  Maybe One Day (feat. Black Spade)         Blu & Exile   \n",
       "\n",
       "            genre         city      time        day  \n",
       "0            rock  Shelbyville  20:28:33  Wednesday  \n",
       "2             pop  Shelbyville  20:58:07  Wednesday  \n",
       "3            folk  Shelbyville  08:37:09     Monday  \n",
       "5          rusrap  Shelbyville  13:09:41     Friday  \n",
       "9           dance  Shelbyville  21:20:49  Wednesday  \n",
       "...           ...          ...       ...        ...  \n",
       "65063        film  Shelbyville  21:14:40     Monday  \n",
       "65064  electronic  Shelbyville  21:06:50     Monday  \n",
       "65065       world  Shelbyville  13:56:00     Monday  \n",
       "65066    postrock  Shelbyville  09:22:13     Monday  \n",
       "65075      hiphop  Shelbyville  10:00:00     Monday  \n",
       "\n",
       "[18512 rows x 7 columns]"
      ]
     },
     "execution_count": 36,
     "metadata": {},
     "output_type": "execute_result"
    }
   ],
   "source": [
    "shel_general"
   ]
  },
  {
   "cell_type": "markdown",
   "metadata": {
    "id": "MEJV-CX2_Zcu"
   },
   "source": [
    "Write the `genre_weekday()` function with four parameters:\n",
    "* A table for data (`df`)\n",
    "* The day of the week (`day`)\n",
    "* The first timestamp, in 'hh:mm' format (`time1`)\n",
    "* The last timestamp, in 'hh:mm' format (`time2`)\n",
    "\n",
    "The function should return info on the 15 most popular genres on a given day within the period between the two timestamps."
   ]
  },
  {
   "cell_type": "code",
   "execution_count": 37,
   "metadata": {
    "id": "laJT9BYl_Zcu"
   },
   "outputs": [],
   "source": [
    "def genre_weekday(df,day,time1,time2):\n",
    "    genre_df = df[df['day'] == day]\n",
    "    genre_df = genre_df[df['time'] < time2]\n",
    "    genre_df = genre_df[df['time'] > time1]\n",
    "    \n",
    "    genre_df_count = genre_df.groupby('genre')['track'].count()\n",
    "    genre_df_sorted = genre_df_count.sort_values(ascending=False)\n",
    "    \n",
    "    \n",
    "    return genre_df_sorted[:15]\n",
    "    \n",
    "    \n",
    "    \n",
    "\n",
    "\n"
   ]
  },
  {
   "cell_type": "markdown",
   "metadata": {
    "id": "la2s2_PF_Zcu"
   },
   "source": [
    "Compare the results of the `genre_weekday()` function for Springfield and Shelbyville on Monday morning (from 7AM to 11AM) and on Friday evening (from 17:00 to 23:00):"
   ]
  },
  {
   "cell_type": "code",
   "execution_count": 38,
   "metadata": {
    "id": "yz7itPUQ_Zcu"
   },
   "outputs": [
    {
     "name": "stdout",
     "output_type": "stream",
     "text": [
      "genre\n",
      "pop            781\n",
      "dance          549\n",
      "electronic     480\n",
      "rock           474\n",
      "hiphop         286\n",
      "ruspop         186\n",
      "world          181\n",
      "rusrap         175\n",
      "alternative    164\n",
      "unknown        161\n",
      "classical      157\n",
      "metal          120\n",
      "jazz           100\n",
      "folk            97\n",
      "soundtrack      95\n",
      "Name: track, dtype: int64\n"
     ]
    },
    {
     "name": "stderr",
     "output_type": "stream",
     "text": [
      "/tmp/ipykernel_27/2788577975.py:3: UserWarning: Boolean Series key will be reindexed to match DataFrame index.\n",
      "  genre_df = genre_df[df['time'] < time2]\n",
      "/tmp/ipykernel_27/2788577975.py:4: UserWarning: Boolean Series key will be reindexed to match DataFrame index.\n",
      "  genre_df = genre_df[df['time'] > time1]\n"
     ]
    }
   ],
   "source": [
    "print(genre_weekday(spr_general, 'Monday','07:00:00','11:00:00'))\n",
    "\n",
    "\n"
   ]
  },
  {
   "cell_type": "code",
   "execution_count": 39,
   "metadata": {
    "id": "kwUcHPdy_Zcu"
   },
   "outputs": [
    {
     "name": "stdout",
     "output_type": "stream",
     "text": [
      "genre\n",
      "pop            218\n",
      "dance          182\n",
      "rock           162\n",
      "electronic     147\n",
      "hiphop          80\n",
      "ruspop          64\n",
      "alternative     58\n",
      "rusrap          55\n",
      "jazz            44\n",
      "classical       40\n",
      "world           36\n",
      "rap             32\n",
      "soundtrack      31\n",
      "rnb             27\n",
      "metal           27\n",
      "Name: track, dtype: int64\n"
     ]
    },
    {
     "name": "stderr",
     "output_type": "stream",
     "text": [
      "/tmp/ipykernel_27/2788577975.py:3: UserWarning: Boolean Series key will be reindexed to match DataFrame index.\n",
      "  genre_df = genre_df[df['time'] < time2]\n",
      "/tmp/ipykernel_27/2788577975.py:4: UserWarning: Boolean Series key will be reindexed to match DataFrame index.\n",
      "  genre_df = genre_df[df['time'] > time1]\n"
     ]
    }
   ],
   "source": [
    "print(genre_weekday(shel_general, 'Monday', '07:00:00', '11:00:00'))\n"
   ]
  },
  {
   "cell_type": "code",
   "execution_count": 40,
   "metadata": {
    "id": "EzXVRE1o_Zcu"
   },
   "outputs": [
    {
     "name": "stdout",
     "output_type": "stream",
     "text": [
      "genre\n",
      "pop            713\n",
      "rock           517\n",
      "dance          495\n",
      "electronic     482\n",
      "hiphop         273\n",
      "world          208\n",
      "ruspop         170\n",
      "classical      163\n",
      "alternative    163\n",
      "rusrap         142\n",
      "jazz           111\n",
      "unknown        110\n",
      "soundtrack     105\n",
      "rnb             90\n",
      "metal           88\n",
      "Name: track, dtype: int64\n"
     ]
    },
    {
     "name": "stderr",
     "output_type": "stream",
     "text": [
      "/tmp/ipykernel_27/2788577975.py:3: UserWarning: Boolean Series key will be reindexed to match DataFrame index.\n",
      "  genre_df = genre_df[df['time'] < time2]\n",
      "/tmp/ipykernel_27/2788577975.py:4: UserWarning: Boolean Series key will be reindexed to match DataFrame index.\n",
      "  genre_df = genre_df[df['time'] > time1]\n"
     ]
    }
   ],
   "source": [
    "print(genre_weekday(spr_general, 'Friday', '17:00:00', '23:00:00'))\n"
   ]
  },
  {
   "cell_type": "code",
   "execution_count": 41,
   "metadata": {
    "id": "JZaEKu5v_Zcu"
   },
   "outputs": [
    {
     "name": "stdout",
     "output_type": "stream",
     "text": [
      "genre\n",
      "pop            256\n",
      "rock           216\n",
      "electronic     216\n",
      "dance          210\n",
      "hiphop          97\n",
      "alternative     63\n",
      "jazz            61\n",
      "classical       60\n",
      "rusrap          59\n",
      "world           54\n",
      "unknown         47\n",
      "ruspop          47\n",
      "soundtrack      40\n",
      "metal           39\n",
      "rap             36\n",
      "Name: track, dtype: int64\n"
     ]
    },
    {
     "name": "stderr",
     "output_type": "stream",
     "text": [
      "/tmp/ipykernel_27/2788577975.py:3: UserWarning: Boolean Series key will be reindexed to match DataFrame index.\n",
      "  genre_df = genre_df[df['time'] < time2]\n",
      "/tmp/ipykernel_27/2788577975.py:4: UserWarning: Boolean Series key will be reindexed to match DataFrame index.\n",
      "  genre_df = genre_df[df['time'] > time1]\n"
     ]
    }
   ],
   "source": [
    "print(genre_weekday(shel_general, 'Friday', '17:00:00', '23:00:00'))\n"
   ]
  },
  {
   "cell_type": "markdown",
   "metadata": {
    "id": "wrCe4MNX_Zcu"
   },
   "source": [
    "**Conclusion**\n",
    "\n",
    "Having compared the top 15 genres on Monday morning, we can draw the following conclusions:\n",
    "\n",
    "1. Users from Springfield and Shelbyville listen to similar music. The top five genres are the same, only rock and electronic have switched places.\n",
    "\n",
    "2. In Springfield, the number of missing values turned out to be so big that the value `'unknown'` came in 10th. This means that missing values make up a considerable portion of the data, which may be a basis for questioning the reliability of our conclusions.\n",
    "\n",
    "For Friday evening, the situation is similar. Individual genres vary somewhat, but on the whole, the top 15 is similar for the two cities.\n",
    "\n",
    "Thus, the second hypothesis has been partially proven true:\n",
    "* Users listen to similar music at the beginning and end of the week.\n",
    "* There is no major difference between Springfield and Shelbyville. In both cities, pop is the most popular genre.\n",
    "\n",
    "However, the number of missing values makes this result questionable. In Springfield, there are so many that they affect our top 15. Were we not missing these values, things might look different."
   ]
  },
  {
   "cell_type": "markdown",
   "metadata": {},
   "source": [
    "<div class=\"alert alert-block alert-success\">\n",
    "<b>Reviewer's comment</b> <a class=\"tocSkip\"></a><br>\n",
    "Good job on this part, everything is correct 👍\n",
    "</div>\n"
   ]
  },
  {
   "cell_type": "markdown",
   "metadata": {
    "id": "jLmXgdanVyhP"
   },
   "source": [
    "[Back to Contents](#back)"
   ]
  },
  {
   "cell_type": "markdown",
   "metadata": {
    "id": "JolODAqr_Zcu"
   },
   "source": [
    "### Hypothesis 3: genre preferences in Springfield and Shelbyville <a id='genre'></a>\n",
    "\n",
    "Hypothesis: Shelbyville loves rap music. Springfield's citizens are more into pop."
   ]
  },
  {
   "cell_type": "markdown",
   "metadata": {
    "id": "DlegSvaT_Zcu"
   },
   "source": [
    "Group the `spr_general` table by genre and find the number of songs played for each genre with the `count()` method. Then sort the result in descending order and store it to `spr_genres`."
   ]
  },
  {
   "cell_type": "code",
   "execution_count": 42,
   "metadata": {
    "id": "r19lIPke_Zcu"
   },
   "outputs": [],
   "source": [
    "spr = spr_general.groupby('genre')['track'].count()\n",
    "\n",
    "spr_genres = spr.sort_values(ascending=False)\n",
    "\n",
    "# on one line: group the spr_general table by the 'genre' column, \n",
    "# count the 'genre' values with count() in the grouping, \n",
    "# sort the resulting Series in descending order, and store it to spr_genres"
   ]
  },
  {
   "cell_type": "markdown",
   "metadata": {
    "id": "6kMuomxTiIr8"
   },
   "source": [
    "Print the first 10 rows from `spr_genres`:"
   ]
  },
  {
   "cell_type": "code",
   "execution_count": 43,
   "metadata": {
    "id": "WhCSooF8_Zcv"
   },
   "outputs": [
    {
     "name": "stdout",
     "output_type": "stream",
     "text": [
      "genre\n",
      "pop            5892\n",
      "dance          4435\n",
      "rock           3965\n",
      "electronic     3786\n",
      "hiphop         2096\n",
      "classical      1616\n",
      "world          1432\n",
      "alternative    1379\n",
      "ruspop         1372\n",
      "rusrap         1161\n",
      "Name: track, dtype: int64\n"
     ]
    }
   ],
   "source": [
    "print(spr_genres.head(10))"
   ]
  },
  {
   "cell_type": "markdown",
   "metadata": {
    "id": "cnPG2vnN_Zcv"
   },
   "source": [
    "Now do the same with the data on Shelbyville.\n",
    "\n",
    "Group the `shel_general` table by genre and find the number of songs played for each genre. Then sort the result in descending order and store it to the `shel_genres` table:\n"
   ]
  },
  {
   "cell_type": "code",
   "execution_count": 44,
   "metadata": {
    "id": "gluLIpE7_Zcv"
   },
   "outputs": [],
   "source": [
    "shel = shel_general.groupby('genre')['track'].count()\n",
    "\n",
    "shel_genres = shel.sort_values(ascending=False)\n",
    "\n",
    "# on one line: group the shel_general table by the 'genre' column, \n",
    "# count the 'genre' values in the grouping with count(), \n",
    "# sort the resulting Series in descending order and store it to shel_genres"
   ]
  },
  {
   "cell_type": "markdown",
   "metadata": {
    "id": "5Doha_ODgyQ8"
   },
   "source": [
    "Print the first 10 rows of `shel_genres`:"
   ]
  },
  {
   "cell_type": "code",
   "execution_count": 45,
   "metadata": {
    "id": "uaGJHjVU_Zcv"
   },
   "outputs": [
    {
     "name": "stdout",
     "output_type": "stream",
     "text": [
      "genre\n",
      "pop            2431\n",
      "dance          1932\n",
      "rock           1879\n",
      "electronic     1736\n",
      "hiphop          960\n",
      "alternative     649\n",
      "classical       646\n",
      "rusrap          564\n",
      "ruspop          538\n",
      "world           515\n",
      "Name: track, dtype: int64\n"
     ]
    }
   ],
   "source": [
    "print(shel_genres.head(10))"
   ]
  },
  {
   "cell_type": "markdown",
   "metadata": {
    "id": "RY51YJYu_Zcv"
   },
   "source": [
    "**Conclusion**"
   ]
  },
  {
   "cell_type": "markdown",
   "metadata": {
    "id": "nVhnJEm__Zcv"
   },
   "source": [
    "The hypothesis has been partially proven true:\n",
    "* Pop music is the most popular genre in Springfield, as expected.\n",
    "* However, pop music turned out to be equally popular in Springfield and Shelbyville, and rap wasn't in the top 5 for either city.\n"
   ]
  },
  {
   "cell_type": "markdown",
   "metadata": {},
   "source": [
    "<div class=\"alert alert-block alert-success\">\n",
    "<b>Reviewer's comment</b> <a class=\"tocSkip\"></a><br>\n",
    "    \n",
    "👏\n",
    "</div>"
   ]
  },
  {
   "cell_type": "markdown",
   "metadata": {
    "id": "Byr0RfpPVz14"
   },
   "source": [
    "[Back to Contents](#back)"
   ]
  },
  {
   "cell_type": "markdown",
   "metadata": {
    "id": "ykKQ0N65_Zcv"
   },
   "source": [
    "# Findings <a id='end'></a>"
   ]
  },
  {
   "cell_type": "markdown",
   "metadata": {
    "id": "tjUwbHb3_Zcv"
   },
   "source": [
    "We have tested the following three hypotheses:\n",
    "\n",
    "1. User activity differs depending on the day of the week and from city to city. \n",
    "2. On Monday mornings, Springfield and Shelbyville residents listen to different genres. This is also true for Friday evenings. \n",
    "3. Springfield and Shelbyville listeners have different preferences. In both Springfield and Shelbyville, they prefer pop.\n",
    "\n",
    "After analyzing the data, we concluded:\n",
    "\n",
    "1. User activity in Springfield and Shelbyville depends on the day of the week, though the cities vary in different ways. \n",
    "\n",
    "The first hypothesis is fully accepted.\n",
    "\n",
    "2. Musical preferences do not vary significantly over the course of the week in both Springfield and Shelbyville. We can see small differences in order on Mondays, but:\n",
    "* In Springfield and Shelbyville, people listen to pop music most.\n",
    "\n",
    "So we can't accept this hypothesis. We must also keep in mind that the result could have been different if not for the missing values.\n",
    "\n",
    "3. It turns out that the musical preferences of users from Springfield and Shelbyville are quite similar.\n",
    "\n",
    "The third hypothesis is rejected. If there is any difference in preferences, it cannot be seen from this data.\n",
    "\n",
    "### Note \n",
    "In real projects, research involves statistical hypothesis testing, which is more precise and more quantitative. Also note that you cannot always draw conclusions about an entire city based on the data from just one source.\n",
    "\n",
    "You will study hypothesis testing in the sprint on statistical data analysis."
   ]
  },
  {
   "cell_type": "markdown",
   "metadata": {
    "id": "Ju4AHDSgV1FE"
   },
   "source": [
    "[Back to Contents](#back)"
   ]
  }
 ],
 "metadata": {
  "ExecuteTimeLog": [
   {
    "duration": 427,
    "start_time": "2022-06-01T02:27:37.927Z"
   },
   {
    "duration": 2,
    "start_time": "2022-06-01T02:28:16.057Z"
   },
   {
    "duration": 2,
    "start_time": "2022-06-01T02:28:18.423Z"
   },
   {
    "duration": 3,
    "start_time": "2022-06-01T02:28:20.821Z"
   },
   {
    "duration": 90,
    "start_time": "2022-06-01T02:29:22.620Z"
   },
   {
    "duration": 88,
    "start_time": "2022-06-01T10:59:04.349Z"
   },
   {
    "duration": 7,
    "start_time": "2022-06-01T10:59:28.894Z"
   },
   {
    "duration": 854,
    "start_time": "2022-06-01T11:00:15.498Z"
   },
   {
    "duration": 23,
    "start_time": "2022-06-01T11:00:16.642Z"
   },
   {
    "duration": 4,
    "start_time": "2022-06-01T11:00:25.514Z"
   },
   {
    "duration": 3,
    "start_time": "2022-06-01T11:00:43.380Z"
   },
   {
    "duration": 107,
    "start_time": "2022-06-01T11:06:36.778Z"
   },
   {
    "duration": 432,
    "start_time": "2022-06-06T20:47:22.918Z"
   },
   {
    "duration": 52,
    "start_time": "2022-06-06T20:48:03.888Z"
   },
   {
    "duration": 3,
    "start_time": "2022-06-06T20:49:04.523Z"
   },
   {
    "duration": 218,
    "start_time": "2022-06-06T20:49:25.945Z"
   },
   {
    "duration": 168,
    "start_time": "2022-06-06T20:49:30.842Z"
   },
   {
    "duration": 19,
    "start_time": "2022-06-06T20:49:53.097Z"
   },
   {
    "duration": 9,
    "start_time": "2022-06-06T20:52:45.077Z"
   },
   {
    "duration": 7,
    "start_time": "2022-06-06T20:52:56.118Z"
   },
   {
    "duration": 10,
    "start_time": "2022-06-06T20:55:10.960Z"
   },
   {
    "duration": 8,
    "start_time": "2022-06-06T20:55:26.094Z"
   },
   {
    "duration": 7,
    "start_time": "2022-06-06T20:56:06.907Z"
   },
   {
    "duration": 60,
    "start_time": "2022-06-08T05:12:59.601Z"
   },
   {
    "duration": 8,
    "start_time": "2022-06-08T05:13:23.309Z"
   },
   {
    "duration": 12,
    "start_time": "2022-06-08T05:13:41.532Z"
   },
   {
    "duration": 6,
    "start_time": "2022-06-08T05:14:46.076Z"
   },
   {
    "duration": 4,
    "start_time": "2022-06-08T05:18:03.876Z"
   },
   {
    "duration": 43,
    "start_time": "2022-06-08T21:53:19.380Z"
   },
   {
    "duration": 5,
    "start_time": "2022-06-08T21:53:37.866Z"
   },
   {
    "duration": 6,
    "start_time": "2022-06-10T19:46:26.537Z"
   },
   {
    "duration": 5,
    "start_time": "2022-06-10T19:46:35.253Z"
   },
   {
    "duration": 6,
    "start_time": "2022-06-10T19:47:14.373Z"
   },
   {
    "duration": 5,
    "start_time": "2022-06-10T19:47:20.889Z"
   },
   {
    "duration": 6,
    "start_time": "2022-06-10T20:04:00.688Z"
   },
   {
    "duration": 6,
    "start_time": "2022-06-10T20:04:44.505Z"
   },
   {
    "duration": 6,
    "start_time": "2022-06-10T21:08:03.911Z"
   },
   {
    "duration": 5,
    "start_time": "2022-06-10T21:08:21.699Z"
   },
   {
    "duration": 5,
    "start_time": "2022-06-10T21:12:14.743Z"
   },
   {
    "duration": 6,
    "start_time": "2022-06-10T21:12:22.185Z"
   },
   {
    "duration": 7,
    "start_time": "2022-06-10T21:12:40.785Z"
   },
   {
    "duration": 3,
    "start_time": "2022-06-10T21:14:03.427Z"
   },
   {
    "duration": 3,
    "start_time": "2022-06-10T21:14:25.901Z"
   },
   {
    "duration": 2,
    "start_time": "2022-06-10T21:14:33.344Z"
   },
   {
    "duration": 3,
    "start_time": "2022-06-10T21:14:43.790Z"
   },
   {
    "duration": 419,
    "start_time": "2022-09-05T04:37:50.626Z"
   },
   {
    "duration": 71,
    "start_time": "2022-09-05T04:37:59.542Z"
   },
   {
    "duration": 257,
    "start_time": "2022-09-05T04:38:09.797Z"
   },
   {
    "duration": 8,
    "start_time": "2022-09-05T04:38:32.245Z"
   },
   {
    "duration": 8,
    "start_time": "2022-09-05T04:38:44.940Z"
   },
   {
    "duration": 3,
    "start_time": "2022-09-05T04:39:44.625Z"
   },
   {
    "duration": 178,
    "start_time": "2022-09-05T04:40:18.233Z"
   },
   {
    "duration": 21,
    "start_time": "2022-09-05T04:40:30.126Z"
   },
   {
    "duration": 38,
    "start_time": "2022-09-05T04:41:44.675Z"
   },
   {
    "duration": 25,
    "start_time": "2022-09-05T04:42:21.107Z"
   },
   {
    "duration": 6,
    "start_time": "2022-09-06T23:27:49.801Z"
   },
   {
    "duration": 363,
    "start_time": "2022-09-06T23:27:53.483Z"
   },
   {
    "duration": 215,
    "start_time": "2022-09-06T23:27:56.739Z"
   },
   {
    "duration": 22,
    "start_time": "2022-09-06T23:27:58.968Z"
   },
   {
    "duration": 7,
    "start_time": "2022-09-06T23:28:02.294Z"
   },
   {
    "duration": 7,
    "start_time": "2022-09-06T23:28:05.971Z"
   },
   {
    "duration": 3,
    "start_time": "2022-09-06T23:28:13.578Z"
   },
   {
    "duration": 3,
    "start_time": "2022-09-06T23:28:15.690Z"
   },
   {
    "duration": 30,
    "start_time": "2022-09-06T23:28:18.980Z"
   },
   {
    "duration": 21,
    "start_time": "2022-09-06T23:28:59.771Z"
   },
   {
    "duration": 946,
    "start_time": "2022-09-06T23:30:16.414Z"
   },
   {
    "duration": 976,
    "start_time": "2022-09-06T23:30:39.115Z"
   },
   {
    "duration": 703,
    "start_time": "2022-09-06T23:30:52.623Z"
   },
   {
    "duration": 750,
    "start_time": "2022-09-06T23:31:08.196Z"
   },
   {
    "duration": 22,
    "start_time": "2022-09-06T23:32:57.954Z"
   },
   {
    "duration": 771,
    "start_time": "2022-09-06T23:33:03.580Z"
   },
   {
    "duration": 769,
    "start_time": "2022-09-06T23:33:59.589Z"
   },
   {
    "duration": 153,
    "start_time": "2022-09-06T23:35:07.617Z"
   },
   {
    "duration": 150,
    "start_time": "2022-09-06T23:35:11.017Z"
   },
   {
    "duration": 153,
    "start_time": "2022-09-06T23:35:18.180Z"
   },
   {
    "duration": 154,
    "start_time": "2022-09-06T23:35:20.768Z"
   },
   {
    "duration": 11,
    "start_time": "2022-09-06T23:37:59.627Z"
   },
   {
    "duration": 11,
    "start_time": "2022-09-06T23:39:32.581Z"
   },
   {
    "duration": 4,
    "start_time": "2022-09-06T23:39:44.404Z"
   },
   {
    "duration": 9,
    "start_time": "2022-09-06T23:39:59.916Z"
   },
   {
    "duration": 11,
    "start_time": "2022-09-06T23:47:47.833Z"
   },
   {
    "duration": 755,
    "start_time": "2022-09-06T23:49:41.578Z"
   },
   {
    "duration": 7,
    "start_time": "2022-09-06T23:50:40.985Z"
   },
   {
    "duration": 955,
    "start_time": "2022-09-06T23:51:41.963Z"
   },
   {
    "duration": 46,
    "start_time": "2022-09-06T23:52:08.585Z"
   },
   {
    "duration": 696,
    "start_time": "2022-09-06T23:52:17.710Z"
   },
   {
    "duration": 1125,
    "start_time": "2022-09-06T23:53:06.078Z"
   },
   {
    "duration": 923,
    "start_time": "2022-09-06T23:53:31.037Z"
   },
   {
    "duration": 3,
    "start_time": "2022-09-06T23:53:46.968Z"
   },
   {
    "duration": 144,
    "start_time": "2022-09-06T23:53:49.205Z"
   },
   {
    "duration": 12,
    "start_time": "2022-09-06T23:53:50.224Z"
   },
   {
    "duration": 43,
    "start_time": "2022-09-06T23:54:19.331Z"
   },
   {
    "duration": 8,
    "start_time": "2022-09-06T23:54:28.173Z"
   },
   {
    "duration": 9,
    "start_time": "2022-09-06T23:56:41.126Z"
   },
   {
    "duration": 752,
    "start_time": "2022-09-06T23:58:14.843Z"
   },
   {
    "duration": 905,
    "start_time": "2022-09-07T00:00:11.092Z"
   },
   {
    "duration": 1023,
    "start_time": "2022-09-07T00:00:48.536Z"
   },
   {
    "duration": 863,
    "start_time": "2022-09-07T00:01:12.565Z"
   },
   {
    "duration": 23,
    "start_time": "2022-09-07T00:01:21.974Z"
   },
   {
    "duration": 3,
    "start_time": "2022-09-07T00:01:30.203Z"
   },
   {
    "duration": 772,
    "start_time": "2022-09-07T00:22:18.716Z"
   },
   {
    "duration": 7,
    "start_time": "2022-09-07T00:26:20.378Z"
   },
   {
    "duration": 816,
    "start_time": "2022-09-07T00:29:07.842Z"
   },
   {
    "duration": 683,
    "start_time": "2022-09-07T00:29:26.672Z"
   },
   {
    "duration": 4,
    "start_time": "2022-09-07T00:31:00.299Z"
   },
   {
    "duration": 49,
    "start_time": "2022-09-07T00:31:09.599Z"
   },
   {
    "duration": 68,
    "start_time": "2022-09-07T00:31:20.905Z"
   },
   {
    "duration": 17,
    "start_time": "2022-09-07T00:48:29.302Z"
   },
   {
    "duration": 15,
    "start_time": "2022-09-07T00:48:34.168Z"
   },
   {
    "duration": 4,
    "start_time": "2022-09-07T00:48:37.085Z"
   },
   {
    "duration": 22,
    "start_time": "2022-09-07T00:48:42.804Z"
   },
   {
    "duration": 59,
    "start_time": "2022-09-07T00:57:46.880Z"
   },
   {
    "duration": 66,
    "start_time": "2022-09-07T00:58:52.878Z"
   },
   {
    "duration": 55,
    "start_time": "2022-09-07T00:59:10.083Z"
   },
   {
    "duration": 7,
    "start_time": "2022-09-07T00:59:26.185Z"
   },
   {
    "duration": 69,
    "start_time": "2022-09-07T00:59:28.783Z"
   },
   {
    "duration": 72,
    "start_time": "2022-09-07T01:06:29.877Z"
   },
   {
    "duration": 53,
    "start_time": "2022-09-07T01:06:33.806Z"
   },
   {
    "duration": 70,
    "start_time": "2022-09-07T01:08:29.124Z"
   },
   {
    "duration": 50,
    "start_time": "2022-09-07T01:08:32.490Z"
   },
   {
    "duration": 57,
    "start_time": "2022-09-07T01:12:20.075Z"
   },
   {
    "duration": 61,
    "start_time": "2022-09-07T01:12:38.066Z"
   },
   {
    "duration": 54,
    "start_time": "2022-09-07T01:12:42.175Z"
   },
   {
    "duration": 4,
    "start_time": "2022-09-07T01:13:38.378Z"
   },
   {
    "duration": 6,
    "start_time": "2022-09-07T01:13:41.799Z"
   },
   {
    "duration": 7,
    "start_time": "2022-09-07T01:13:47.332Z"
   },
   {
    "duration": 7,
    "start_time": "2022-09-07T01:13:50.977Z"
   },
   {
    "duration": 6,
    "start_time": "2022-09-07T01:14:19.897Z"
   },
   {
    "duration": 6,
    "start_time": "2022-09-07T01:14:32.715Z"
   },
   {
    "duration": 7,
    "start_time": "2022-09-07T01:14:41.394Z"
   },
   {
    "duration": 6,
    "start_time": "2022-09-07T01:15:40.040Z"
   },
   {
    "duration": 7,
    "start_time": "2022-09-07T01:16:46.316Z"
   },
   {
    "duration": 6,
    "start_time": "2022-09-07T01:17:04.483Z"
   },
   {
    "duration": 7,
    "start_time": "2022-09-07T01:17:12.580Z"
   },
   {
    "duration": 7,
    "start_time": "2022-09-07T01:17:20.578Z"
   },
   {
    "duration": 7,
    "start_time": "2022-09-07T01:18:29.817Z"
   },
   {
    "duration": 6,
    "start_time": "2022-09-07T01:18:36.549Z"
   },
   {
    "duration": 6,
    "start_time": "2022-09-07T01:18:41.882Z"
   },
   {
    "duration": 3,
    "start_time": "2022-09-07T01:19:07.932Z"
   },
   {
    "duration": 3,
    "start_time": "2022-09-07T01:19:10.681Z"
   },
   {
    "duration": 6,
    "start_time": "2022-09-07T01:19:13.710Z"
   },
   {
    "duration": 7,
    "start_time": "2022-09-07T01:19:38.150Z"
   },
   {
    "duration": 3,
    "start_time": "2022-09-07T01:20:09.183Z"
   },
   {
    "duration": 6,
    "start_time": "2022-09-07T01:20:20.352Z"
   },
   {
    "duration": 8,
    "start_time": "2022-09-07T01:20:39.081Z"
   },
   {
    "duration": 3,
    "start_time": "2022-09-07T01:20:44.281Z"
   },
   {
    "duration": 143,
    "start_time": "2022-09-07T01:20:49.950Z"
   },
   {
    "duration": 12,
    "start_time": "2022-09-07T01:20:52.148Z"
   },
   {
    "duration": 52,
    "start_time": "2022-09-07T01:20:58.181Z"
   },
   {
    "duration": 22,
    "start_time": "2022-09-07T01:21:03.285Z"
   },
   {
    "duration": 15,
    "start_time": "2022-09-07T01:21:07.210Z"
   },
   {
    "duration": 24,
    "start_time": "2022-09-07T01:21:13.182Z"
   },
   {
    "duration": 63,
    "start_time": "2022-09-07T01:21:19.282Z"
   },
   {
    "duration": 51,
    "start_time": "2022-09-07T01:21:23.380Z"
   },
   {
    "duration": 53,
    "start_time": "2022-09-07T01:27:11.511Z"
   },
   {
    "duration": 65,
    "start_time": "2022-09-07T01:27:13.809Z"
   },
   {
    "duration": 63,
    "start_time": "2022-09-07T01:27:47.578Z"
   },
   {
    "duration": 60,
    "start_time": "2022-09-07T01:27:50.321Z"
   },
   {
    "duration": 56,
    "start_time": "2022-09-07T01:27:52.506Z"
   },
   {
    "duration": 56,
    "start_time": "2022-09-07T01:27:54.778Z"
   },
   {
    "duration": 7,
    "start_time": "2022-09-07T01:36:43.481Z"
   },
   {
    "duration": 7,
    "start_time": "2022-09-07T01:37:37.623Z"
   },
   {
    "duration": 7,
    "start_time": "2022-09-07T01:37:51.930Z"
   },
   {
    "duration": 11,
    "start_time": "2022-09-07T01:40:20.317Z"
   },
   {
    "duration": 10,
    "start_time": "2022-09-07T01:40:25.083Z"
   },
   {
    "duration": 493,
    "start_time": "2022-09-07T01:49:47.631Z"
   },
   {
    "duration": 603,
    "start_time": "2022-09-07T01:49:50.024Z"
   },
   {
    "duration": 10,
    "start_time": "2022-09-07T01:49:53.852Z"
   },
   {
    "duration": 5,
    "start_time": "2022-09-07T01:52:42.503Z"
   },
   {
    "duration": 65,
    "start_time": "2022-09-07T01:54:30.448Z"
   },
   {
    "duration": 49,
    "start_time": "2022-09-07T01:54:41.824Z"
   },
   {
    "duration": 34,
    "start_time": "2022-09-07T02:42:03.680Z"
   },
   {
    "duration": 29,
    "start_time": "2022-09-07T02:43:03.693Z"
   },
   {
    "duration": 6,
    "start_time": "2022-09-07T02:43:34.445Z"
   },
   {
    "duration": 9,
    "start_time": "2022-09-07T02:44:00.892Z"
   },
   {
    "duration": 35,
    "start_time": "2022-09-07T02:44:12.131Z"
   },
   {
    "duration": 22,
    "start_time": "2022-09-07T02:44:31.096Z"
   },
   {
    "duration": 3,
    "start_time": "2022-09-07T02:44:52.188Z"
   },
   {
    "duration": 2,
    "start_time": "2022-09-07T02:44:54.581Z"
   },
   {
    "duration": 22,
    "start_time": "2022-09-07T02:44:55.789Z"
   },
   {
    "duration": 1183,
    "start_time": "2022-09-07T03:05:32.543Z"
   },
   {
    "duration": 10,
    "start_time": "2022-09-07T03:10:22.694Z"
   },
   {
    "duration": 9,
    "start_time": "2022-09-07T03:10:32.913Z"
   },
   {
    "duration": 9,
    "start_time": "2022-09-07T03:12:18.790Z"
   },
   {
    "duration": 7,
    "start_time": "2022-09-07T03:12:42.475Z"
   },
   {
    "duration": 3,
    "start_time": "2022-09-07T03:12:52.122Z"
   },
   {
    "duration": 9,
    "start_time": "2022-09-07T03:14:14.211Z"
   },
   {
    "duration": 6,
    "start_time": "2022-09-07T03:14:22.996Z"
   },
   {
    "duration": 6,
    "start_time": "2022-09-07T03:14:32.517Z"
   },
   {
    "duration": 40,
    "start_time": "2022-09-07T03:14:40.151Z"
   },
   {
    "duration": 7,
    "start_time": "2022-09-07T03:14:54.279Z"
   },
   {
    "duration": 9,
    "start_time": "2022-09-07T03:15:00.424Z"
   },
   {
    "duration": 9,
    "start_time": "2022-09-07T03:15:25.201Z"
   },
   {
    "duration": 9,
    "start_time": "2022-09-07T03:15:56.730Z"
   },
   {
    "duration": 9,
    "start_time": "2022-09-07T03:16:54.774Z"
   },
   {
    "duration": 12,
    "start_time": "2022-09-07T03:17:38.129Z"
   },
   {
    "duration": 47,
    "start_time": "2022-09-07T03:17:52.879Z"
   },
   {
    "duration": 10,
    "start_time": "2022-09-07T03:18:02.993Z"
   },
   {
    "duration": 9,
    "start_time": "2022-09-07T03:18:15.917Z"
   },
   {
    "duration": 10,
    "start_time": "2022-09-07T03:18:33.650Z"
   },
   {
    "duration": 3,
    "start_time": "2022-09-07T03:18:58.817Z"
   },
   {
    "duration": 3,
    "start_time": "2022-09-07T03:19:06.298Z"
   },
   {
    "duration": 3,
    "start_time": "2022-09-07T03:20:21.450Z"
   },
   {
    "duration": 3,
    "start_time": "2022-09-07T03:20:40.549Z"
   },
   {
    "duration": 6,
    "start_time": "2022-09-07T03:20:49.751Z"
   },
   {
    "duration": 5,
    "start_time": "2022-09-07T03:20:53.712Z"
   },
   {
    "duration": 46,
    "start_time": "2022-09-07T03:24:35.287Z"
   },
   {
    "duration": 6,
    "start_time": "2022-09-07T03:24:51.871Z"
   },
   {
    "duration": 378,
    "start_time": "2022-09-07T03:25:00.396Z"
   },
   {
    "duration": 150,
    "start_time": "2022-09-07T03:25:01.627Z"
   },
   {
    "duration": 8,
    "start_time": "2022-09-07T03:25:04.247Z"
   },
   {
    "duration": 8,
    "start_time": "2022-09-07T03:25:10.184Z"
   },
   {
    "duration": 27,
    "start_time": "2022-09-07T03:25:29.146Z"
   },
   {
    "duration": 8,
    "start_time": "2022-09-07T03:25:36.146Z"
   },
   {
    "duration": 3,
    "start_time": "2022-09-07T03:26:42.214Z"
   },
   {
    "duration": 3,
    "start_time": "2022-09-07T03:26:44.546Z"
   },
   {
    "duration": 4,
    "start_time": "2022-09-07T03:27:04.666Z"
   },
   {
    "duration": 400,
    "start_time": "2022-09-07T03:30:00.608Z"
   },
   {
    "duration": 158,
    "start_time": "2022-09-07T03:30:01.311Z"
   },
   {
    "duration": 18,
    "start_time": "2022-09-07T03:30:01.729Z"
   },
   {
    "duration": 9,
    "start_time": "2022-09-07T03:30:02.885Z"
   },
   {
    "duration": 7,
    "start_time": "2022-09-07T03:30:03.401Z"
   },
   {
    "duration": 2,
    "start_time": "2022-09-07T03:30:07.267Z"
   },
   {
    "duration": 3,
    "start_time": "2022-09-07T03:30:46.799Z"
   },
   {
    "duration": 3,
    "start_time": "2022-09-07T03:31:31.037Z"
   },
   {
    "duration": 3,
    "start_time": "2022-09-07T03:31:38.666Z"
   },
   {
    "duration": 23,
    "start_time": "2022-09-07T03:31:50.144Z"
   },
   {
    "duration": 18,
    "start_time": "2022-09-07T03:32:02.665Z"
   },
   {
    "duration": 22,
    "start_time": "2022-09-07T03:32:04.800Z"
   },
   {
    "duration": 59,
    "start_time": "2022-09-07T03:32:09.170Z"
   },
   {
    "duration": 60,
    "start_time": "2022-09-07T03:32:10.471Z"
   },
   {
    "duration": 55,
    "start_time": "2022-09-07T03:32:12.401Z"
   },
   {
    "duration": 7,
    "start_time": "2022-09-07T03:32:14.685Z"
   },
   {
    "duration": 37,
    "start_time": "2022-09-07T03:32:36.336Z"
   },
   {
    "duration": 3,
    "start_time": "2022-09-07T03:32:39.275Z"
   },
   {
    "duration": 21,
    "start_time": "2022-09-07T03:32:42.369Z"
   },
   {
    "duration": 21,
    "start_time": "2022-09-07T03:32:56.904Z"
   },
   {
    "duration": 3,
    "start_time": "2022-09-07T03:33:03.876Z"
   },
   {
    "duration": 38,
    "start_time": "2022-09-07T03:33:11.598Z"
   },
   {
    "duration": 3,
    "start_time": "2022-09-07T03:51:31.897Z"
   },
   {
    "duration": 142,
    "start_time": "2022-09-07T03:51:33.000Z"
   },
   {
    "duration": 12,
    "start_time": "2022-09-07T03:51:33.551Z"
   },
   {
    "duration": 7,
    "start_time": "2022-09-07T03:51:39.963Z"
   },
   {
    "duration": 9,
    "start_time": "2022-09-07T03:51:42.136Z"
   },
   {
    "duration": 4,
    "start_time": "2022-09-07T03:52:42.548Z"
   },
   {
    "duration": 4,
    "start_time": "2022-09-07T03:52:49.049Z"
   },
   {
    "duration": 2,
    "start_time": "2022-09-07T03:52:50.512Z"
   },
   {
    "duration": 23,
    "start_time": "2022-09-07T03:52:54.028Z"
   },
   {
    "duration": 20,
    "start_time": "2022-09-07T03:52:56.129Z"
   },
   {
    "duration": 23,
    "start_time": "2022-09-07T03:52:57.381Z"
   },
   {
    "duration": 58,
    "start_time": "2022-09-07T03:53:01.196Z"
   },
   {
    "duration": 63,
    "start_time": "2022-09-07T03:53:02.563Z"
   },
   {
    "duration": 63,
    "start_time": "2022-09-07T03:53:04.286Z"
   },
   {
    "duration": 7,
    "start_time": "2022-09-07T03:53:07.932Z"
   },
   {
    "duration": 37,
    "start_time": "2022-09-07T03:53:11.080Z"
   },
   {
    "duration": 25,
    "start_time": "2022-09-07T03:53:34.630Z"
   },
   {
    "duration": 3,
    "start_time": "2022-09-07T03:53:55.961Z"
   },
   {
    "duration": 22,
    "start_time": "2022-09-07T03:54:16.356Z"
   },
   {
    "duration": 40,
    "start_time": "2022-09-07T03:54:27.529Z"
   },
   {
    "duration": 52,
    "start_time": "2022-09-07T03:54:32.078Z"
   },
   {
    "duration": 22,
    "start_time": "2022-09-07T03:54:39.446Z"
   },
   {
    "duration": 3,
    "start_time": "2022-09-07T03:54:50.429Z"
   },
   {
    "duration": 22,
    "start_time": "2022-09-07T03:54:51.411Z"
   },
   {
    "duration": 37,
    "start_time": "2022-09-07T03:54:53.275Z"
   },
   {
    "duration": 11,
    "start_time": "2022-09-07T03:56:08.437Z"
   },
   {
    "duration": 9,
    "start_time": "2022-09-07T03:56:12.649Z"
   },
   {
    "duration": 4,
    "start_time": "2022-09-07T03:56:17.971Z"
   },
   {
    "duration": 7,
    "start_time": "2022-09-07T03:56:33.523Z"
   },
   {
    "duration": 11,
    "start_time": "2022-09-07T03:56:43.050Z"
   },
   {
    "duration": 5,
    "start_time": "2022-09-07T03:56:51.198Z"
   },
   {
    "duration": 4,
    "start_time": "2022-09-07T03:57:30.449Z"
   },
   {
    "duration": 4388,
    "start_time": "2022-09-07T03:57:44.181Z"
   },
   {
    "duration": 3953,
    "start_time": "2022-09-07T03:57:53.024Z"
   },
   {
    "duration": 4,
    "start_time": "2022-09-07T04:23:15.728Z"
   },
   {
    "duration": 2098,
    "start_time": "2022-09-07T04:43:48.459Z"
   },
   {
    "duration": 441,
    "start_time": "2022-09-07T17:31:59.195Z"
   },
   {
    "duration": 489,
    "start_time": "2022-09-07T17:31:59.940Z"
   },
   {
    "duration": 20,
    "start_time": "2022-09-07T17:32:00.432Z"
   },
   {
    "duration": 8,
    "start_time": "2022-09-07T17:32:01.199Z"
   },
   {
    "duration": 8,
    "start_time": "2022-09-07T17:32:04.031Z"
   },
   {
    "duration": 3,
    "start_time": "2022-09-07T17:32:08.620Z"
   },
   {
    "duration": 3,
    "start_time": "2022-09-07T17:32:10.883Z"
   },
   {
    "duration": 5,
    "start_time": "2022-09-07T17:32:11.998Z"
   },
   {
    "duration": 3,
    "start_time": "2022-09-07T17:32:52.660Z"
   },
   {
    "duration": 5,
    "start_time": "2022-09-07T17:33:13.627Z"
   },
   {
    "duration": 3,
    "start_time": "2022-09-07T17:33:46.233Z"
   },
   {
    "duration": 4,
    "start_time": "2022-09-07T17:33:56.326Z"
   },
   {
    "duration": 28,
    "start_time": "2022-09-07T17:34:21.044Z"
   },
   {
    "duration": 22,
    "start_time": "2022-09-07T17:34:28.910Z"
   },
   {
    "duration": 26,
    "start_time": "2022-09-07T17:34:30.481Z"
   },
   {
    "duration": 68,
    "start_time": "2022-09-07T17:34:33.231Z"
   },
   {
    "duration": 97,
    "start_time": "2022-09-07T17:34:35.305Z"
   },
   {
    "duration": 59,
    "start_time": "2022-09-07T17:34:36.602Z"
   },
   {
    "duration": 8,
    "start_time": "2022-09-07T17:34:39.516Z"
   },
   {
    "duration": 40,
    "start_time": "2022-09-07T17:34:42.715Z"
   },
   {
    "duration": 3,
    "start_time": "2022-09-07T17:34:48.206Z"
   },
   {
    "duration": 81,
    "start_time": "2022-09-07T17:34:49.427Z"
   },
   {
    "duration": 41,
    "start_time": "2022-09-07T17:35:17.067Z"
   },
   {
    "duration": 8,
    "start_time": "2022-09-07T17:35:35.520Z"
   },
   {
    "duration": 9,
    "start_time": "2022-09-07T17:36:05.743Z"
   },
   {
    "duration": 9,
    "start_time": "2022-09-07T17:36:27.806Z"
   },
   {
    "duration": 23,
    "start_time": "2022-09-07T17:37:04.129Z"
   },
   {
    "duration": 8,
    "start_time": "2022-09-07T17:37:19.560Z"
   },
   {
    "duration": 29,
    "start_time": "2022-09-07T17:37:33.205Z"
   },
   {
    "duration": 26,
    "start_time": "2022-09-07T17:37:37.439Z"
   },
   {
    "duration": 4989,
    "start_time": "2022-09-07T17:38:04.126Z"
   },
   {
    "duration": 4,
    "start_time": "2022-09-07T17:43:23.208Z"
   },
   {
    "duration": 4,
    "start_time": "2022-09-07T17:43:36.028Z"
   },
   {
    "duration": 4,
    "start_time": "2022-09-07T17:43:39.961Z"
   },
   {
    "duration": 35,
    "start_time": "2022-09-07T17:44:37.008Z"
   },
   {
    "duration": 13,
    "start_time": "2022-09-07T17:45:07.073Z"
   },
   {
    "duration": 49,
    "start_time": "2022-09-07T17:45:17.440Z"
   },
   {
    "duration": 33,
    "start_time": "2022-09-07T17:52:14.590Z"
   },
   {
    "duration": 25,
    "start_time": "2022-09-07T17:53:27.002Z"
   },
   {
    "duration": 26,
    "start_time": "2022-09-07T17:54:15.833Z"
   },
   {
    "duration": 168,
    "start_time": "2022-09-07T18:22:20.019Z"
   },
   {
    "duration": 170,
    "start_time": "2022-09-07T18:22:36.606Z"
   },
   {
    "duration": 80,
    "start_time": "2022-09-07T18:22:46.017Z"
   },
   {
    "duration": 98,
    "start_time": "2022-09-07T18:39:43.379Z"
   },
   {
    "duration": 75,
    "start_time": "2022-09-07T19:02:46.142Z"
   },
   {
    "duration": 8,
    "start_time": "2022-09-07T19:03:08.121Z"
   },
   {
    "duration": 9,
    "start_time": "2022-09-07T19:03:13.503Z"
   },
   {
    "duration": 95,
    "start_time": "2022-09-07T19:03:41.290Z"
   },
   {
    "duration": 74,
    "start_time": "2022-09-07T19:03:52.983Z"
   },
   {
    "duration": 73,
    "start_time": "2022-09-07T19:30:11.208Z"
   },
   {
    "duration": 8,
    "start_time": "2022-09-07T19:30:31.721Z"
   },
   {
    "duration": 20,
    "start_time": "2022-09-07T19:32:19.224Z"
   },
   {
    "duration": 16,
    "start_time": "2022-09-07T19:33:36.711Z"
   },
   {
    "duration": 17,
    "start_time": "2022-09-07T19:33:43.947Z"
   },
   {
    "duration": 22,
    "start_time": "2022-09-07T19:34:45.090Z"
   },
   {
    "duration": 16,
    "start_time": "2022-09-07T19:36:00.448Z"
   },
   {
    "duration": 15,
    "start_time": "2022-09-07T19:37:22.657Z"
   },
   {
    "duration": 14,
    "start_time": "2022-09-07T19:37:45.174Z"
   },
   {
    "duration": 14,
    "start_time": "2022-09-07T19:48:48.628Z"
   },
   {
    "duration": 14,
    "start_time": "2022-09-07T19:51:27.597Z"
   },
   {
    "duration": 14,
    "start_time": "2022-09-07T19:51:38.360Z"
   },
   {
    "duration": 14,
    "start_time": "2022-09-07T19:53:03.582Z"
   },
   {
    "duration": 19,
    "start_time": "2022-09-07T20:31:57.229Z"
   },
   {
    "duration": 19,
    "start_time": "2022-09-07T20:33:46.251Z"
   },
   {
    "duration": 77,
    "start_time": "2022-09-07T20:35:01.449Z"
   },
   {
    "duration": 19,
    "start_time": "2022-09-07T20:35:24.537Z"
   },
   {
    "duration": 14,
    "start_time": "2022-09-07T20:35:52.017Z"
   },
   {
    "duration": 15,
    "start_time": "2022-09-07T20:37:05.652Z"
   },
   {
    "duration": 20,
    "start_time": "2022-09-07T20:41:41.994Z"
   },
   {
    "duration": 16,
    "start_time": "2022-09-07T20:42:00.338Z"
   },
   {
    "duration": 17,
    "start_time": "2022-09-07T20:42:02.597Z"
   },
   {
    "duration": 16,
    "start_time": "2022-09-07T20:42:24.737Z"
   },
   {
    "duration": 14,
    "start_time": "2022-09-07T20:42:45.765Z"
   },
   {
    "duration": 18,
    "start_time": "2022-09-07T20:43:09.781Z"
   },
   {
    "duration": 17,
    "start_time": "2022-09-07T20:43:12.842Z"
   },
   {
    "duration": 76,
    "start_time": "2022-09-07T20:46:35.801Z"
   },
   {
    "duration": 4,
    "start_time": "2022-09-07T20:49:18.390Z"
   },
   {
    "duration": 3,
    "start_time": "2022-09-07T20:49:23.452Z"
   },
   {
    "duration": 3,
    "start_time": "2022-09-07T20:49:28.113Z"
   },
   {
    "duration": 3,
    "start_time": "2022-09-07T20:49:32.752Z"
   },
   {
    "duration": 8,
    "start_time": "2022-09-07T20:49:40.345Z"
   },
   {
    "duration": 75,
    "start_time": "2022-09-07T20:52:19.202Z"
   },
   {
    "duration": 87,
    "start_time": "2022-09-07T20:52:32.548Z"
   },
   {
    "duration": 5,
    "start_time": "2022-09-07T20:53:31.852Z"
   },
   {
    "duration": 6,
    "start_time": "2022-09-07T20:53:35.216Z"
   },
   {
    "duration": 6,
    "start_time": "2022-09-07T20:59:18.180Z"
   },
   {
    "duration": 3,
    "start_time": "2022-09-07T20:59:27.055Z"
   },
   {
    "duration": 3,
    "start_time": "2022-09-07T20:59:57.403Z"
   },
   {
    "duration": 6,
    "start_time": "2022-09-07T21:12:24.256Z"
   },
   {
    "duration": 6,
    "start_time": "2022-09-07T21:12:53.696Z"
   },
   {
    "duration": 6,
    "start_time": "2022-09-07T21:13:13.262Z"
   },
   {
    "duration": 8,
    "start_time": "2022-09-07T21:13:46.319Z"
   },
   {
    "duration": 3,
    "start_time": "2022-09-07T21:13:53.487Z"
   },
   {
    "duration": 6,
    "start_time": "2022-09-07T21:13:55.494Z"
   },
   {
    "duration": 3,
    "start_time": "2022-09-07T21:14:14.527Z"
   },
   {
    "duration": 6,
    "start_time": "2022-09-07T21:14:15.609Z"
   },
   {
    "duration": 73,
    "start_time": "2022-09-07T21:15:38.890Z"
   },
   {
    "duration": 70,
    "start_time": "2022-09-07T21:15:48.147Z"
   },
   {
    "duration": 83,
    "start_time": "2022-09-07T21:16:30.827Z"
   },
   {
    "duration": 93,
    "start_time": "2022-09-07T21:16:36.322Z"
   },
   {
    "duration": 131,
    "start_time": "2022-09-07T21:16:40.199Z"
   },
   {
    "duration": 73,
    "start_time": "2022-09-07T21:16:49.686Z"
   },
   {
    "duration": 71,
    "start_time": "2022-09-07T21:17:59.717Z"
   },
   {
    "duration": 13,
    "start_time": "2022-09-07T21:18:18.730Z"
   },
   {
    "duration": 73,
    "start_time": "2022-09-07T21:18:52.386Z"
   },
   {
    "duration": 74,
    "start_time": "2022-09-07T21:19:07.556Z"
   },
   {
    "duration": 8,
    "start_time": "2022-09-07T21:19:12.405Z"
   },
   {
    "duration": 11,
    "start_time": "2022-09-07T21:19:23.328Z"
   },
   {
    "duration": 4,
    "start_time": "2022-09-07T21:19:38.830Z"
   },
   {
    "duration": 6,
    "start_time": "2022-09-07T21:19:41.573Z"
   },
   {
    "duration": 3,
    "start_time": "2022-09-07T21:20:24.872Z"
   },
   {
    "duration": 8,
    "start_time": "2022-09-07T21:20:25.614Z"
   },
   {
    "duration": 5,
    "start_time": "2022-09-07T21:22:40.809Z"
   },
   {
    "duration": 8,
    "start_time": "2022-09-07T21:22:42.158Z"
   },
   {
    "duration": 9,
    "start_time": "2022-09-07T22:01:16.149Z"
   },
   {
    "duration": 78,
    "start_time": "2022-09-07T22:29:37.170Z"
   },
   {
    "duration": 4,
    "start_time": "2022-09-07T22:29:51.755Z"
   },
   {
    "duration": 8,
    "start_time": "2022-09-07T22:29:57.133Z"
   },
   {
    "duration": 4,
    "start_time": "2022-09-07T22:30:16.819Z"
   },
   {
    "duration": 8,
    "start_time": "2022-09-07T22:30:18.375Z"
   },
   {
    "duration": 5,
    "start_time": "2022-09-07T22:32:13.492Z"
   },
   {
    "duration": 7,
    "start_time": "2022-09-07T22:32:20.246Z"
   },
   {
    "duration": 75,
    "start_time": "2022-09-07T22:49:35.992Z"
   },
   {
    "duration": 4,
    "start_time": "2022-09-07T22:49:41.225Z"
   },
   {
    "duration": 4,
    "start_time": "2022-09-07T22:55:26.362Z"
   },
   {
    "duration": 11,
    "start_time": "2022-09-07T22:56:08.089Z"
   },
   {
    "duration": 13,
    "start_time": "2022-09-07T22:56:24.389Z"
   },
   {
    "duration": 10,
    "start_time": "2022-09-07T22:56:30.045Z"
   },
   {
    "duration": 10,
    "start_time": "2022-09-07T22:58:55.376Z"
   },
   {
    "duration": 10,
    "start_time": "2022-09-07T22:59:10.408Z"
   },
   {
    "duration": 9,
    "start_time": "2022-09-07T22:59:51.536Z"
   },
   {
    "duration": 4,
    "start_time": "2022-09-07T23:00:35.524Z"
   },
   {
    "duration": 9,
    "start_time": "2022-09-07T23:00:36.962Z"
   },
   {
    "duration": 12,
    "start_time": "2022-09-07T23:37:58.393Z"
   },
   {
    "duration": 4,
    "start_time": "2022-09-07T23:38:50.343Z"
   },
   {
    "duration": 78,
    "start_time": "2022-09-07T23:39:47.886Z"
   },
   {
    "duration": 4,
    "start_time": "2022-09-07T23:39:52.204Z"
   },
   {
    "duration": 9,
    "start_time": "2022-09-07T23:40:07.547Z"
   },
   {
    "duration": 10,
    "start_time": "2022-09-07T23:44:03.514Z"
   },
   {
    "duration": 9,
    "start_time": "2022-09-07T23:44:08.868Z"
   },
   {
    "duration": 9,
    "start_time": "2022-09-07T23:44:12.710Z"
   },
   {
    "duration": 87,
    "start_time": "2022-09-07T23:48:10.024Z"
   },
   {
    "duration": 8,
    "start_time": "2022-09-07T23:48:18.238Z"
   },
   {
    "duration": 77,
    "start_time": "2022-09-07T23:48:28.753Z"
   },
   {
    "duration": 11,
    "start_time": "2022-09-07T23:48:45.138Z"
   },
   {
    "duration": 5,
    "start_time": "2022-09-08T00:46:02.104Z"
   },
   {
    "duration": 5,
    "start_time": "2022-09-08T00:46:17.103Z"
   },
   {
    "duration": 10,
    "start_time": "2022-09-08T00:46:20.883Z"
   },
   {
    "duration": 9,
    "start_time": "2022-09-08T01:27:07.457Z"
   },
   {
    "duration": 49,
    "start_time": "2022-09-08T06:40:12.628Z"
   },
   {
    "duration": 6,
    "start_time": "2022-09-08T06:40:28.892Z"
   },
   {
    "duration": 4,
    "start_time": "2022-09-08T06:40:45.957Z"
   },
   {
    "duration": 6,
    "start_time": "2022-09-08T06:40:47.146Z"
   },
   {
    "duration": 8,
    "start_time": "2022-09-08T06:41:01.568Z"
   },
   {
    "duration": 397,
    "start_time": "2022-09-08T06:41:11.228Z"
   },
   {
    "duration": 232,
    "start_time": "2022-09-08T06:41:12.019Z"
   },
   {
    "duration": 19,
    "start_time": "2022-09-08T06:41:12.360Z"
   },
   {
    "duration": 7,
    "start_time": "2022-09-08T06:41:12.763Z"
   },
   {
    "duration": 7,
    "start_time": "2022-09-08T06:41:13.616Z"
   },
   {
    "duration": 4,
    "start_time": "2022-09-08T06:41:15.278Z"
   },
   {
    "duration": 3,
    "start_time": "2022-09-08T06:41:15.954Z"
   },
   {
    "duration": 4,
    "start_time": "2022-09-08T06:41:16.798Z"
   },
   {
    "duration": 24,
    "start_time": "2022-09-08T06:41:18.116Z"
   },
   {
    "duration": 19,
    "start_time": "2022-09-08T06:41:19.571Z"
   },
   {
    "duration": 24,
    "start_time": "2022-09-08T06:41:20.506Z"
   },
   {
    "duration": 61,
    "start_time": "2022-09-08T06:41:22.212Z"
   },
   {
    "duration": 84,
    "start_time": "2022-09-08T06:41:23.058Z"
   },
   {
    "duration": 55,
    "start_time": "2022-09-08T06:41:24.028Z"
   },
   {
    "duration": 8,
    "start_time": "2022-09-08T06:41:24.916Z"
   },
   {
    "duration": 63,
    "start_time": "2022-09-08T06:41:26.261Z"
   },
   {
    "duration": 27,
    "start_time": "2022-09-08T06:41:28.077Z"
   },
   {
    "duration": 7,
    "start_time": "2022-09-08T06:41:32.976Z"
   },
   {
    "duration": 39,
    "start_time": "2022-09-08T06:41:35.520Z"
   },
   {
    "duration": 34,
    "start_time": "2022-09-08T06:41:39.426Z"
   },
   {
    "duration": 36,
    "start_time": "2022-09-08T06:41:40.433Z"
   },
   {
    "duration": 11,
    "start_time": "2022-09-08T06:41:41.816Z"
   },
   {
    "duration": 16,
    "start_time": "2022-09-08T06:41:43.241Z"
   },
   {
    "duration": 14,
    "start_time": "2022-09-08T06:41:43.703Z"
   },
   {
    "duration": 14,
    "start_time": "2022-09-08T06:41:44.443Z"
   },
   {
    "duration": 14,
    "start_time": "2022-09-08T06:41:45.071Z"
   },
   {
    "duration": 24,
    "start_time": "2022-09-08T06:41:45.635Z"
   },
   {
    "duration": 25,
    "start_time": "2022-09-08T06:41:46.216Z"
   },
   {
    "duration": 7,
    "start_time": "2022-09-08T06:41:47.316Z"
   },
   {
    "duration": 9,
    "start_time": "2022-09-08T06:41:48.820Z"
   },
   {
    "duration": 4,
    "start_time": "2022-09-08T06:41:52.032Z"
   },
   {
    "duration": 8,
    "start_time": "2022-09-08T06:41:52.981Z"
   },
   {
    "duration": 4,
    "start_time": "2022-09-08T06:41:53.967Z"
   },
   {
    "duration": 8,
    "start_time": "2022-09-08T06:42:03.566Z"
   },
   {
    "duration": 4,
    "start_time": "2022-09-08T06:42:05.187Z"
   },
   {
    "duration": 12,
    "start_time": "2022-09-08T06:42:08.196Z"
   },
   {
    "duration": 11,
    "start_time": "2022-09-08T06:42:26.929Z"
   },
   {
    "duration": 4,
    "start_time": "2022-09-08T06:42:42.859Z"
   },
   {
    "duration": 10,
    "start_time": "2022-09-08T06:42:47.168Z"
   },
   {
    "duration": 10,
    "start_time": "2022-09-08T06:43:30.677Z"
   },
   {
    "duration": 9,
    "start_time": "2022-09-08T06:43:35.758Z"
   },
   {
    "duration": 13,
    "start_time": "2022-09-08T06:45:36.073Z"
   },
   {
    "duration": 4,
    "start_time": "2022-09-08T06:47:40.061Z"
   },
   {
    "duration": 12,
    "start_time": "2022-09-08T06:47:41.332Z"
   },
   {
    "duration": 4,
    "start_time": "2022-09-08T06:47:56.081Z"
   },
   {
    "duration": 9,
    "start_time": "2022-09-08T06:47:59.360Z"
   },
   {
    "duration": 10,
    "start_time": "2022-09-08T06:48:15.218Z"
   },
   {
    "duration": 11,
    "start_time": "2022-09-08T06:48:53.916Z"
   },
   {
    "duration": 64,
    "start_time": "2022-09-08T06:55:34.330Z"
   },
   {
    "duration": 4,
    "start_time": "2022-09-08T06:55:40.087Z"
   },
   {
    "duration": 41,
    "start_time": "2022-09-08T06:56:12.800Z"
   },
   {
    "duration": 4,
    "start_time": "2022-09-08T06:56:18.574Z"
   },
   {
    "duration": 456,
    "start_time": "2022-09-08T22:10:41.367Z"
   },
   {
    "duration": 509,
    "start_time": "2022-09-08T22:10:41.893Z"
   },
   {
    "duration": 20,
    "start_time": "2022-09-08T22:10:42.404Z"
   },
   {
    "duration": 15,
    "start_time": "2022-09-08T22:10:42.426Z"
   },
   {
    "duration": 8,
    "start_time": "2022-09-08T22:10:42.646Z"
   },
   {
    "duration": 3,
    "start_time": "2022-09-08T22:10:43.513Z"
   },
   {
    "duration": 3,
    "start_time": "2022-09-08T22:10:43.832Z"
   },
   {
    "duration": 3,
    "start_time": "2022-09-08T22:10:44.167Z"
   },
   {
    "duration": 26,
    "start_time": "2022-09-08T22:10:44.624Z"
   },
   {
    "duration": 22,
    "start_time": "2022-09-08T22:10:45.167Z"
   },
   {
    "duration": 24,
    "start_time": "2022-09-08T22:10:45.574Z"
   },
   {
    "duration": 63,
    "start_time": "2022-09-08T22:10:46.110Z"
   },
   {
    "duration": 75,
    "start_time": "2022-09-08T22:10:46.741Z"
   },
   {
    "duration": 71,
    "start_time": "2022-09-08T22:10:47.184Z"
   },
   {
    "duration": 8,
    "start_time": "2022-09-08T22:10:47.916Z"
   },
   {
    "duration": 43,
    "start_time": "2022-09-08T22:10:49.102Z"
   },
   {
    "duration": 90,
    "start_time": "2022-09-08T22:10:51.822Z"
   },
   {
    "duration": 10,
    "start_time": "2022-09-08T22:10:59.095Z"
   },
   {
    "duration": 44,
    "start_time": "2022-09-08T22:11:00.557Z"
   },
   {
    "duration": 37,
    "start_time": "2022-09-08T22:11:03.803Z"
   },
   {
    "duration": 43,
    "start_time": "2022-09-08T22:11:04.728Z"
   },
   {
    "duration": 13,
    "start_time": "2022-09-08T22:11:05.560Z"
   },
   {
    "duration": 17,
    "start_time": "2022-09-08T22:11:06.757Z"
   },
   {
    "duration": 18,
    "start_time": "2022-09-08T22:11:07.151Z"
   },
   {
    "duration": 16,
    "start_time": "2022-09-08T22:11:07.854Z"
   },
   {
    "duration": 14,
    "start_time": "2022-09-08T22:11:08.216Z"
   },
   {
    "duration": 19,
    "start_time": "2022-09-08T22:11:08.602Z"
   },
   {
    "duration": 15,
    "start_time": "2022-09-08T22:11:08.901Z"
   },
   {
    "duration": 7,
    "start_time": "2022-09-08T22:11:09.928Z"
   },
   {
    "duration": 8,
    "start_time": "2022-09-08T22:11:33.993Z"
   },
   {
    "duration": 4,
    "start_time": "2022-09-08T22:11:37.578Z"
   },
   {
    "duration": 7,
    "start_time": "2022-09-08T22:11:38.207Z"
   },
   {
    "duration": 3,
    "start_time": "2022-09-08T22:11:38.643Z"
   },
   {
    "duration": 8,
    "start_time": "2022-09-08T22:11:39.073Z"
   },
   {
    "duration": 5,
    "start_time": "2022-09-08T22:11:40.323Z"
   },
   {
    "duration": 17,
    "start_time": "2022-09-08T22:12:44.123Z"
   },
   {
    "duration": 13,
    "start_time": "2022-09-08T22:14:25.551Z"
   },
   {
    "duration": 3,
    "start_time": "2022-09-08T22:14:50.239Z"
   },
   {
    "duration": 8,
    "start_time": "2022-09-08T22:14:53.697Z"
   },
   {
    "duration": 5,
    "start_time": "2022-09-08T22:15:04.921Z"
   },
   {
    "duration": 10,
    "start_time": "2022-09-08T22:15:05.787Z"
   },
   {
    "duration": 5,
    "start_time": "2022-09-08T22:15:19.440Z"
   },
   {
    "duration": 9,
    "start_time": "2022-09-08T22:15:20.981Z"
   },
   {
    "duration": 10,
    "start_time": "2022-09-08T22:15:34.039Z"
   },
   {
    "duration": 6,
    "start_time": "2022-09-08T22:21:56.030Z"
   },
   {
    "duration": 5,
    "start_time": "2022-09-08T22:28:38.130Z"
   },
   {
    "duration": 7,
    "start_time": "2022-09-08T22:30:08.981Z"
   },
   {
    "duration": 3,
    "start_time": "2022-09-08T22:30:17.449Z"
   },
   {
    "duration": 6,
    "start_time": "2022-09-08T22:30:37.808Z"
   },
   {
    "duration": 8,
    "start_time": "2022-09-08T22:30:39.592Z"
   },
   {
    "duration": 4,
    "start_time": "2022-09-08T22:30:49.648Z"
   },
   {
    "duration": 4,
    "start_time": "2022-09-08T22:31:48.153Z"
   },
   {
    "duration": 5,
    "start_time": "2022-09-08T22:31:48.842Z"
   },
   {
    "duration": 41,
    "start_time": "2022-09-09T03:39:29.805Z"
   },
   {
    "duration": 389,
    "start_time": "2022-09-09T03:39:35.279Z"
   },
   {
    "duration": 219,
    "start_time": "2022-09-09T03:39:35.999Z"
   },
   {
    "duration": 17,
    "start_time": "2022-09-09T03:39:36.220Z"
   },
   {
    "duration": 6,
    "start_time": "2022-09-09T03:39:36.452Z"
   },
   {
    "duration": 7,
    "start_time": "2022-09-09T03:39:36.730Z"
   },
   {
    "duration": 3,
    "start_time": "2022-09-09T03:39:37.555Z"
   },
   {
    "duration": 3,
    "start_time": "2022-09-09T03:39:37.817Z"
   },
   {
    "duration": 3,
    "start_time": "2022-09-09T03:39:38.097Z"
   },
   {
    "duration": 24,
    "start_time": "2022-09-09T03:39:38.546Z"
   },
   {
    "duration": 17,
    "start_time": "2022-09-09T03:39:38.995Z"
   },
   {
    "duration": 21,
    "start_time": "2022-09-09T03:39:39.264Z"
   },
   {
    "duration": 64,
    "start_time": "2022-09-09T03:39:39.728Z"
   },
   {
    "duration": 63,
    "start_time": "2022-09-09T03:39:40.009Z"
   },
   {
    "duration": 53,
    "start_time": "2022-09-09T03:39:40.300Z"
   },
   {
    "duration": 7,
    "start_time": "2022-09-09T03:39:40.580Z"
   },
   {
    "duration": 33,
    "start_time": "2022-09-09T03:39:40.866Z"
   },
   {
    "duration": 27,
    "start_time": "2022-09-09T03:39:41.180Z"
   },
   {
    "duration": 7,
    "start_time": "2022-09-09T03:39:41.480Z"
   },
   {
    "duration": 33,
    "start_time": "2022-09-09T03:39:41.802Z"
   },
   {
    "duration": 33,
    "start_time": "2022-09-09T03:39:44.179Z"
   },
   {
    "duration": 29,
    "start_time": "2022-09-09T03:39:44.969Z"
   },
   {
    "duration": 11,
    "start_time": "2022-09-09T03:39:46.115Z"
   },
   {
    "duration": 15,
    "start_time": "2022-09-09T03:39:47.617Z"
   },
   {
    "duration": 13,
    "start_time": "2022-09-09T03:39:48.255Z"
   },
   {
    "duration": 14,
    "start_time": "2022-09-09T03:39:48.762Z"
   },
   {
    "duration": 12,
    "start_time": "2022-09-09T03:39:49.211Z"
   },
   {
    "duration": 15,
    "start_time": "2022-09-09T03:39:49.593Z"
   },
   {
    "duration": 13,
    "start_time": "2022-09-09T03:39:50.009Z"
   },
   {
    "duration": 6,
    "start_time": "2022-09-09T03:39:51.051Z"
   },
   {
    "duration": 3,
    "start_time": "2022-09-09T03:39:54.748Z"
   },
   {
    "duration": 8,
    "start_time": "2022-09-09T03:39:55.231Z"
   },
   {
    "duration": 4,
    "start_time": "2022-09-09T03:40:58.499Z"
   },
   {
    "duration": 4,
    "start_time": "2022-09-09T03:40:59.414Z"
   },
   {
    "duration": 6,
    "start_time": "2022-09-09T03:41:22.312Z"
   },
   {
    "duration": 3,
    "start_time": "2022-09-09T03:42:10.142Z"
   },
   {
    "duration": 6,
    "start_time": "2022-09-09T03:42:10.608Z"
   },
   {
    "duration": 6,
    "start_time": "2022-09-09T03:42:37.760Z"
   },
   {
    "duration": 3,
    "start_time": "2022-09-09T03:43:09.028Z"
   },
   {
    "duration": 6,
    "start_time": "2022-09-09T03:43:10.081Z"
   },
   {
    "duration": 3,
    "start_time": "2022-09-09T03:43:16.151Z"
   },
   {
    "duration": 9,
    "start_time": "2022-09-09T03:43:18.742Z"
   },
   {
    "duration": 9,
    "start_time": "2022-09-09T03:43:53.611Z"
   },
   {
    "duration": 10,
    "start_time": "2022-09-09T03:44:42.544Z"
   },
   {
    "duration": 101,
    "start_time": "2022-09-09T03:45:17.031Z"
   },
   {
    "duration": 55,
    "start_time": "2022-09-09T03:45:25.543Z"
   },
   {
    "duration": 4,
    "start_time": "2022-09-09T03:45:31.296Z"
   },
   {
    "duration": 9,
    "start_time": "2022-09-09T03:45:53.959Z"
   },
   {
    "duration": 4,
    "start_time": "2022-09-09T03:46:09.404Z"
   },
   {
    "duration": 9,
    "start_time": "2022-09-09T03:46:10.657Z"
   },
   {
    "duration": 4,
    "start_time": "2022-09-09T03:46:40.014Z"
   },
   {
    "duration": 9,
    "start_time": "2022-09-09T03:46:41.254Z"
   },
   {
    "duration": 8,
    "start_time": "2022-09-09T03:47:20.782Z"
   },
   {
    "duration": 390,
    "start_time": "2022-09-09T15:23:44.735Z"
   },
   {
    "duration": 237,
    "start_time": "2022-09-09T15:23:45.128Z"
   },
   {
    "duration": 17,
    "start_time": "2022-09-09T15:23:45.367Z"
   },
   {
    "duration": 7,
    "start_time": "2022-09-09T15:23:45.500Z"
   },
   {
    "duration": 7,
    "start_time": "2022-09-09T15:23:45.772Z"
   },
   {
    "duration": 4,
    "start_time": "2022-09-09T15:23:46.662Z"
   },
   {
    "duration": 3,
    "start_time": "2022-09-09T15:23:46.939Z"
   },
   {
    "duration": 3,
    "start_time": "2022-09-09T15:23:47.242Z"
   },
   {
    "duration": 36,
    "start_time": "2022-09-09T15:23:47.710Z"
   },
   {
    "duration": 18,
    "start_time": "2022-09-09T15:23:48.182Z"
   },
   {
    "duration": 24,
    "start_time": "2022-09-09T15:23:48.494Z"
   },
   {
    "duration": 74,
    "start_time": "2022-09-09T15:23:48.964Z"
   },
   {
    "duration": 67,
    "start_time": "2022-09-09T15:23:49.271Z"
   },
   {
    "duration": 60,
    "start_time": "2022-09-09T15:23:49.615Z"
   },
   {
    "duration": 7,
    "start_time": "2022-09-09T15:23:49.939Z"
   },
   {
    "duration": 45,
    "start_time": "2022-09-09T15:23:50.319Z"
   },
   {
    "duration": 71,
    "start_time": "2022-09-09T15:23:50.765Z"
   },
   {
    "duration": 8,
    "start_time": "2022-09-09T15:23:51.271Z"
   },
   {
    "duration": 41,
    "start_time": "2022-09-09T15:23:52.336Z"
   },
   {
    "duration": 31,
    "start_time": "2022-09-09T15:23:56.171Z"
   },
   {
    "duration": 37,
    "start_time": "2022-09-09T15:23:57.217Z"
   },
   {
    "duration": 11,
    "start_time": "2022-09-09T15:23:59.537Z"
   },
   {
    "duration": 23,
    "start_time": "2022-09-09T15:24:02.321Z"
   },
   {
    "duration": 15,
    "start_time": "2022-09-09T15:24:02.511Z"
   },
   {
    "duration": 15,
    "start_time": "2022-09-09T15:24:02.742Z"
   },
   {
    "duration": 14,
    "start_time": "2022-09-09T15:24:02.907Z"
   },
   {
    "duration": 22,
    "start_time": "2022-09-09T15:24:03.125Z"
   },
   {
    "duration": 14,
    "start_time": "2022-09-09T15:24:03.348Z"
   },
   {
    "duration": 7,
    "start_time": "2022-09-09T15:24:03.873Z"
   },
   {
    "duration": 8,
    "start_time": "2022-09-09T15:24:04.211Z"
   },
   {
    "duration": 7,
    "start_time": "2022-09-09T15:26:04.799Z"
   },
   {
    "duration": 3,
    "start_time": "2022-09-09T15:26:33.374Z"
   },
   {
    "duration": 12,
    "start_time": "2022-09-09T15:26:34.820Z"
   },
   {
    "duration": 8,
    "start_time": "2022-09-09T15:26:41.884Z"
   },
   {
    "duration": 3,
    "start_time": "2022-09-09T15:28:06.366Z"
   },
   {
    "duration": 7,
    "start_time": "2022-09-09T15:28:07.046Z"
   },
   {
    "duration": 7,
    "start_time": "2022-09-09T15:28:12.906Z"
   },
   {
    "duration": 4,
    "start_time": "2022-09-09T15:28:28.770Z"
   },
   {
    "duration": 985,
    "start_time": "2022-09-09T15:28:31.450Z"
   },
   {
    "duration": 1094,
    "start_time": "2022-09-09T15:29:19.316Z"
   },
   {
    "duration": 886,
    "start_time": "2022-09-09T15:29:29.333Z"
   },
   {
    "duration": 4,
    "start_time": "2022-09-09T15:31:01.024Z"
   },
   {
    "duration": 7,
    "start_time": "2022-09-09T15:31:01.956Z"
   },
   {
    "duration": 3,
    "start_time": "2022-09-09T15:31:05.449Z"
   },
   {
    "duration": 9,
    "start_time": "2022-09-09T15:31:06.416Z"
   },
   {
    "duration": 3,
    "start_time": "2022-09-09T15:31:07.704Z"
   },
   {
    "duration": 7,
    "start_time": "2022-09-09T15:31:08.138Z"
   },
   {
    "duration": 4,
    "start_time": "2022-09-09T15:31:13.738Z"
   },
   {
    "duration": 863,
    "start_time": "2022-09-09T15:31:15.672Z"
   },
   {
    "duration": 776,
    "start_time": "2022-09-09T15:31:20.806Z"
   },
   {
    "duration": 52,
    "start_time": "2022-09-09T15:35:03.304Z"
   },
   {
    "duration": 3,
    "start_time": "2022-09-09T15:35:45.263Z"
   },
   {
    "duration": 795,
    "start_time": "2022-09-09T15:35:47.588Z"
   },
   {
    "duration": 795,
    "start_time": "2022-09-09T15:36:59.335Z"
   },
   {
    "duration": 4,
    "start_time": "2022-09-09T15:37:08.967Z"
   },
   {
    "duration": 4,
    "start_time": "2022-09-09T16:08:25.757Z"
   },
   {
    "duration": 8,
    "start_time": "2022-09-09T16:08:25.997Z"
   },
   {
    "duration": 6,
    "start_time": "2022-09-09T16:08:49.853Z"
   },
   {
    "duration": 8,
    "start_time": "2022-09-09T16:08:50.858Z"
   },
   {
    "duration": 5,
    "start_time": "2022-09-09T16:09:02.955Z"
   },
   {
    "duration": 13,
    "start_time": "2022-09-09T16:09:03.637Z"
   },
   {
    "duration": 3,
    "start_time": "2022-09-09T16:10:02.483Z"
   },
   {
    "duration": 4,
    "start_time": "2022-09-09T16:10:03.628Z"
   },
   {
    "duration": 6,
    "start_time": "2022-09-09T16:10:59.101Z"
   },
   {
    "duration": 4,
    "start_time": "2022-09-09T16:10:59.771Z"
   },
   {
    "duration": 399,
    "start_time": "2022-09-11T18:30:26.798Z"
   },
   {
    "duration": 944,
    "start_time": "2022-09-11T18:30:27.848Z"
   },
   {
    "duration": 21,
    "start_time": "2022-09-11T18:30:28.794Z"
   },
   {
    "duration": 9,
    "start_time": "2022-09-11T18:30:32.587Z"
   },
   {
    "duration": 8,
    "start_time": "2022-09-11T18:30:34.485Z"
   },
   {
    "duration": 4,
    "start_time": "2022-09-11T18:30:37.956Z"
   },
   {
    "duration": 7,
    "start_time": "2022-09-11T18:30:41.886Z"
   },
   {
    "duration": 4,
    "start_time": "2022-09-11T18:30:43.489Z"
   },
   {
    "duration": 44,
    "start_time": "2022-09-11T18:30:46.627Z"
   },
   {
    "duration": 28,
    "start_time": "2022-09-11T18:30:47.103Z"
   },
   {
    "duration": 22,
    "start_time": "2022-09-11T18:30:47.394Z"
   },
   {
    "duration": 69,
    "start_time": "2022-09-11T18:30:47.877Z"
   },
   {
    "duration": 73,
    "start_time": "2022-09-11T18:30:48.161Z"
   },
   {
    "duration": 58,
    "start_time": "2022-09-11T18:30:48.486Z"
   },
   {
    "duration": 8,
    "start_time": "2022-09-11T18:30:48.790Z"
   },
   {
    "duration": 47,
    "start_time": "2022-09-11T18:30:49.131Z"
   },
   {
    "duration": 84,
    "start_time": "2022-09-11T18:30:49.482Z"
   },
   {
    "duration": 11,
    "start_time": "2022-09-11T18:30:50.785Z"
   },
   {
    "duration": 36,
    "start_time": "2022-09-11T18:30:51.896Z"
   },
   {
    "duration": 36,
    "start_time": "2022-09-11T18:31:13.627Z"
   },
   {
    "duration": 39,
    "start_time": "2022-09-11T18:31:15.148Z"
   },
   {
    "duration": 12,
    "start_time": "2022-09-11T18:31:17.791Z"
   },
   {
    "duration": 15,
    "start_time": "2022-09-11T18:31:24.997Z"
   },
   {
    "duration": 14,
    "start_time": "2022-09-11T18:31:25.595Z"
   },
   {
    "duration": 16,
    "start_time": "2022-09-11T18:31:26.222Z"
   },
   {
    "duration": 16,
    "start_time": "2022-09-11T18:31:26.924Z"
   },
   {
    "duration": 25,
    "start_time": "2022-09-11T18:31:27.550Z"
   },
   {
    "duration": 27,
    "start_time": "2022-09-11T18:31:28.059Z"
   },
   {
    "duration": 12,
    "start_time": "2022-09-11T18:31:31.975Z"
   },
   {
    "duration": 15,
    "start_time": "2022-09-11T18:31:32.263Z"
   },
   {
    "duration": 5,
    "start_time": "2022-09-11T18:31:49.477Z"
   },
   {
    "duration": 10,
    "start_time": "2022-09-11T18:31:49.726Z"
   },
   {
    "duration": 5,
    "start_time": "2022-09-11T18:34:18.521Z"
   },
   {
    "duration": 12,
    "start_time": "2022-09-11T18:34:19.047Z"
   },
   {
    "duration": 10,
    "start_time": "2022-09-11T18:34:23.505Z"
   },
   {
    "duration": 13,
    "start_time": "2022-09-11T18:34:28.608Z"
   },
   {
    "duration": 4,
    "start_time": "2022-09-11T18:35:30.924Z"
   },
   {
    "duration": 11,
    "start_time": "2022-09-11T18:35:31.217Z"
   },
   {
    "duration": 4,
    "start_time": "2022-09-11T18:36:18.186Z"
   },
   {
    "duration": 1770,
    "start_time": "2022-09-11T18:36:19.415Z"
   },
   {
    "duration": 1324,
    "start_time": "2022-09-11T18:40:51.940Z"
   },
   {
    "duration": 3,
    "start_time": "2022-09-11T18:41:46.253Z"
   },
   {
    "duration": 1152,
    "start_time": "2022-09-11T18:42:13.102Z"
   },
   {
    "duration": 3,
    "start_time": "2022-09-11T18:44:06.175Z"
   },
   {
    "duration": 251,
    "start_time": "2022-09-11T18:44:06.445Z"
   },
   {
    "duration": 21,
    "start_time": "2022-09-11T18:44:06.699Z"
   },
   {
    "duration": 6,
    "start_time": "2022-09-11T18:44:06.898Z"
   },
   {
    "duration": 8,
    "start_time": "2022-09-11T18:44:07.197Z"
   },
   {
    "duration": 3,
    "start_time": "2022-09-11T18:44:08.155Z"
   },
   {
    "duration": 3,
    "start_time": "2022-09-11T18:44:08.463Z"
   },
   {
    "duration": 3,
    "start_time": "2022-09-11T18:44:08.779Z"
   },
   {
    "duration": 25,
    "start_time": "2022-09-11T18:44:09.262Z"
   },
   {
    "duration": 24,
    "start_time": "2022-09-11T18:44:09.693Z"
   },
   {
    "duration": 24,
    "start_time": "2022-09-11T18:44:10.028Z"
   },
   {
    "duration": 63,
    "start_time": "2022-09-11T18:44:10.504Z"
   },
   {
    "duration": 59,
    "start_time": "2022-09-11T18:44:10.835Z"
   },
   {
    "duration": 58,
    "start_time": "2022-09-11T18:44:11.133Z"
   },
   {
    "duration": 8,
    "start_time": "2022-09-11T18:44:11.483Z"
   },
   {
    "duration": 35,
    "start_time": "2022-09-11T18:44:11.814Z"
   },
   {
    "duration": 8,
    "start_time": "2022-09-11T18:44:12.134Z"
   },
   {
    "duration": 8,
    "start_time": "2022-09-11T18:44:12.463Z"
   },
   {
    "duration": 37,
    "start_time": "2022-09-11T18:44:13.365Z"
   },
   {
    "duration": 32,
    "start_time": "2022-09-11T18:44:29.777Z"
   },
   {
    "duration": 34,
    "start_time": "2022-09-11T18:44:30.673Z"
   },
   {
    "duration": 17,
    "start_time": "2022-09-11T18:44:31.675Z"
   },
   {
    "duration": 16,
    "start_time": "2022-09-11T18:44:32.288Z"
   },
   {
    "duration": 14,
    "start_time": "2022-09-11T18:44:32.616Z"
   },
   {
    "duration": 17,
    "start_time": "2022-09-11T18:44:45.091Z"
   },
   {
    "duration": 15,
    "start_time": "2022-09-11T18:44:45.622Z"
   },
   {
    "duration": 20,
    "start_time": "2022-09-11T18:44:45.815Z"
   },
   {
    "duration": 22,
    "start_time": "2022-09-11T18:44:46.017Z"
   },
   {
    "duration": 15,
    "start_time": "2022-09-11T18:44:46.450Z"
   },
   {
    "duration": 10,
    "start_time": "2022-09-11T18:44:46.649Z"
   },
   {
    "duration": 4,
    "start_time": "2022-09-11T18:44:48.742Z"
   },
   {
    "duration": 11,
    "start_time": "2022-09-11T18:44:48.904Z"
   },
   {
    "duration": 4,
    "start_time": "2022-09-11T18:44:49.090Z"
   },
   {
    "duration": 8,
    "start_time": "2022-09-11T18:44:49.419Z"
   },
   {
    "duration": 1440,
    "start_time": "2022-09-11T18:44:50.089Z"
   },
   {
    "duration": 8,
    "start_time": "2022-09-11T18:51:26.844Z"
   },
   {
    "duration": 8,
    "start_time": "2022-09-11T18:51:31.840Z"
   },
   {
    "duration": 3,
    "start_time": "2022-09-11T18:53:34.782Z"
   },
   {
    "duration": 8,
    "start_time": "2022-09-11T18:53:35.608Z"
   },
   {
    "duration": 5,
    "start_time": "2022-09-11T18:53:36.498Z"
   },
   {
    "duration": 10,
    "start_time": "2022-09-11T18:53:36.689Z"
   },
   {
    "duration": 13,
    "start_time": "2022-09-11T18:56:00.788Z"
   },
   {
    "duration": 4,
    "start_time": "2022-09-11T18:56:09.566Z"
   },
   {
    "duration": 13,
    "start_time": "2022-09-11T18:56:10.570Z"
   },
   {
    "duration": 10,
    "start_time": "2022-09-11T18:56:11.889Z"
   },
   {
    "duration": 119,
    "start_time": "2022-09-11T18:58:15.037Z"
   },
   {
    "duration": 1135,
    "start_time": "2022-09-11T20:01:41.535Z"
   },
   {
    "duration": 76,
    "start_time": "2022-09-11T20:02:03.286Z"
   },
   {
    "duration": 90,
    "start_time": "2022-09-11T20:05:17.367Z"
   },
   {
    "duration": 337,
    "start_time": "2022-09-12T00:01:08.975Z"
   },
   {
    "duration": 216,
    "start_time": "2022-09-12T00:01:09.313Z"
   },
   {
    "duration": 17,
    "start_time": "2022-09-12T00:01:09.530Z"
   },
   {
    "duration": 7,
    "start_time": "2022-09-12T00:01:09.671Z"
   },
   {
    "duration": 7,
    "start_time": "2022-09-12T00:01:09.953Z"
   },
   {
    "duration": 4,
    "start_time": "2022-09-12T00:01:10.787Z"
   },
   {
    "duration": 3,
    "start_time": "2022-09-12T00:01:11.100Z"
   },
   {
    "duration": 3,
    "start_time": "2022-09-12T00:01:11.423Z"
   },
   {
    "duration": 23,
    "start_time": "2022-09-12T00:01:11.882Z"
   },
   {
    "duration": 15,
    "start_time": "2022-09-12T00:01:12.331Z"
   },
   {
    "duration": 22,
    "start_time": "2022-09-12T00:01:12.634Z"
   },
   {
    "duration": 67,
    "start_time": "2022-09-12T00:01:13.144Z"
   },
   {
    "duration": 60,
    "start_time": "2022-09-12T00:01:13.470Z"
   },
   {
    "duration": 56,
    "start_time": "2022-09-12T00:01:13.771Z"
   },
   {
    "duration": 8,
    "start_time": "2022-09-12T00:01:14.089Z"
   },
   {
    "duration": 37,
    "start_time": "2022-09-12T00:01:14.388Z"
   },
   {
    "duration": 59,
    "start_time": "2022-09-12T00:01:14.706Z"
   },
   {
    "duration": 8,
    "start_time": "2022-09-12T00:01:15.021Z"
   },
   {
    "duration": 36,
    "start_time": "2022-09-12T00:01:15.336Z"
   },
   {
    "duration": 32,
    "start_time": "2022-09-12T00:01:16.612Z"
   },
   {
    "duration": 31,
    "start_time": "2022-09-12T00:01:16.919Z"
   },
   {
    "duration": 11,
    "start_time": "2022-09-12T00:01:17.934Z"
   },
   {
    "duration": 15,
    "start_time": "2022-09-12T00:01:18.581Z"
   },
   {
    "duration": 16,
    "start_time": "2022-09-12T00:01:18.957Z"
   },
   {
    "duration": 20,
    "start_time": "2022-09-12T00:01:19.108Z"
   },
   {
    "duration": 19,
    "start_time": "2022-09-12T00:01:19.271Z"
   },
   {
    "duration": 15,
    "start_time": "2022-09-12T00:01:19.439Z"
   },
   {
    "duration": 14,
    "start_time": "2022-09-12T00:01:19.724Z"
   },
   {
    "duration": 6,
    "start_time": "2022-09-12T00:01:20.371Z"
   },
   {
    "duration": 7,
    "start_time": "2022-09-12T00:01:21.167Z"
   },
   {
    "duration": 4,
    "start_time": "2022-09-12T00:01:23.277Z"
   },
   {
    "duration": 9,
    "start_time": "2022-09-12T00:01:23.661Z"
   },
   {
    "duration": 4,
    "start_time": "2022-09-12T00:01:24.129Z"
   },
   {
    "duration": 7,
    "start_time": "2022-09-12T00:01:24.509Z"
   },
   {
    "duration": 55,
    "start_time": "2022-09-12T00:09:22.417Z"
   },
   {
    "duration": 4,
    "start_time": "2022-09-12T00:09:45.553Z"
   },
   {
    "duration": 1427,
    "start_time": "2022-09-12T00:09:47.493Z"
   },
   {
    "duration": 4,
    "start_time": "2022-09-12T00:10:04.232Z"
   },
   {
    "duration": 4,
    "start_time": "2022-09-12T00:10:09.773Z"
   },
   {
    "duration": 4,
    "start_time": "2022-09-12T00:10:10.709Z"
   },
   {
    "duration": 4,
    "start_time": "2022-09-12T00:10:17.939Z"
   },
   {
    "duration": 11,
    "start_time": "2022-09-12T00:10:18.090Z"
   },
   {
    "duration": 4,
    "start_time": "2022-09-12T00:10:19.035Z"
   },
   {
    "duration": 8,
    "start_time": "2022-09-12T00:10:19.226Z"
   },
   {
    "duration": 4,
    "start_time": "2022-09-12T00:10:26.398Z"
   },
   {
    "duration": 1299,
    "start_time": "2022-09-12T00:10:27.734Z"
   },
   {
    "duration": 4,
    "start_time": "2022-09-12T00:22:50.732Z"
   },
   {
    "duration": 715,
    "start_time": "2022-09-12T00:22:52.843Z"
   },
   {
    "duration": 4,
    "start_time": "2022-09-12T00:23:08.573Z"
   },
   {
    "duration": 883,
    "start_time": "2022-09-12T00:23:10.831Z"
   },
   {
    "duration": 4,
    "start_time": "2022-09-12T00:23:38.732Z"
   },
   {
    "duration": 715,
    "start_time": "2022-09-12T00:23:40.192Z"
   },
   {
    "duration": 3,
    "start_time": "2022-09-12T00:25:55.068Z"
   },
   {
    "duration": 3,
    "start_time": "2022-09-12T00:26:09.357Z"
   },
   {
    "duration": 4,
    "start_time": "2022-09-12T00:26:10.404Z"
   },
   {
    "duration": 3,
    "start_time": "2022-09-12T00:26:14.619Z"
   },
   {
    "duration": 8,
    "start_time": "2022-09-12T00:26:18.053Z"
   },
   {
    "duration": 5,
    "start_time": "2022-09-12T00:26:18.469Z"
   },
   {
    "duration": 12,
    "start_time": "2022-09-12T00:26:19.779Z"
   },
   {
    "duration": 4,
    "start_time": "2022-09-12T00:26:29.857Z"
   },
   {
    "duration": 7,
    "start_time": "2022-09-12T00:26:30.067Z"
   },
   {
    "duration": 3,
    "start_time": "2022-09-12T00:26:30.693Z"
   },
   {
    "duration": 7,
    "start_time": "2022-09-12T00:26:31.049Z"
   },
   {
    "duration": 3,
    "start_time": "2022-09-12T00:26:32.771Z"
   },
   {
    "duration": 782,
    "start_time": "2022-09-12T00:26:33.803Z"
   },
   {
    "duration": 4,
    "start_time": "2022-09-12T00:31:18.170Z"
   },
   {
    "duration": 4,
    "start_time": "2022-09-12T00:31:21.518Z"
   },
   {
    "duration": 4,
    "start_time": "2022-09-12T00:31:22.474Z"
   },
   {
    "duration": 3,
    "start_time": "2022-09-12T00:31:29.176Z"
   },
   {
    "duration": 7,
    "start_time": "2022-09-12T00:31:29.607Z"
   },
   {
    "duration": 5,
    "start_time": "2022-09-12T00:31:31.221Z"
   },
   {
    "duration": 12,
    "start_time": "2022-09-12T00:31:32.474Z"
   },
   {
    "duration": 11,
    "start_time": "2022-09-12T00:31:40.092Z"
   },
   {
    "duration": 5,
    "start_time": "2022-09-12T00:31:56.037Z"
   },
   {
    "duration": 8,
    "start_time": "2022-09-12T00:31:56.416Z"
   },
   {
    "duration": 3,
    "start_time": "2022-09-12T00:31:57.154Z"
   },
   {
    "duration": 12,
    "start_time": "2022-09-12T00:31:57.541Z"
   },
   {
    "duration": 4,
    "start_time": "2022-09-12T00:33:15.260Z"
   },
   {
    "duration": 7,
    "start_time": "2022-09-12T00:33:15.865Z"
   },
   {
    "duration": 3,
    "start_time": "2022-09-12T00:33:24.398Z"
   },
   {
    "duration": 7,
    "start_time": "2022-09-12T00:33:24.956Z"
   },
   {
    "duration": 4,
    "start_time": "2022-09-12T00:33:40.169Z"
   },
   {
    "duration": 10,
    "start_time": "2022-09-12T00:33:40.632Z"
   },
   {
    "duration": 5,
    "start_time": "2022-09-12T00:34:08.486Z"
   },
   {
    "duration": 696,
    "start_time": "2022-09-12T00:34:20.305Z"
   },
   {
    "duration": 917,
    "start_time": "2022-09-12T00:34:49.545Z"
   },
   {
    "duration": 1056,
    "start_time": "2022-09-12T00:35:03.923Z"
   },
   {
    "duration": 194,
    "start_time": "2022-09-12T00:35:33.768Z"
   },
   {
    "duration": 42,
    "start_time": "2022-09-12T00:36:23.129Z"
   },
   {
    "duration": 42,
    "start_time": "2022-09-12T00:36:58.086Z"
   },
   {
    "duration": 859,
    "start_time": "2022-09-12T00:37:19.419Z"
   },
   {
    "duration": 835,
    "start_time": "2022-09-12T00:37:52.404Z"
   },
   {
    "duration": 11,
    "start_time": "2022-09-12T00:38:13.897Z"
   },
   {
    "duration": 3,
    "start_time": "2022-09-12T00:38:19.764Z"
   },
   {
    "duration": 171,
    "start_time": "2022-09-12T00:38:20.314Z"
   },
   {
    "duration": 22,
    "start_time": "2022-09-12T00:38:20.828Z"
   },
   {
    "duration": 6,
    "start_time": "2022-09-12T00:38:21.177Z"
   },
   {
    "duration": 7,
    "start_time": "2022-09-12T00:38:21.477Z"
   },
   {
    "duration": 4,
    "start_time": "2022-09-12T00:38:22.677Z"
   },
   {
    "duration": 4,
    "start_time": "2022-09-12T00:38:22.979Z"
   },
   {
    "duration": 4,
    "start_time": "2022-09-12T00:38:23.295Z"
   },
   {
    "duration": 35,
    "start_time": "2022-09-12T00:38:23.783Z"
   },
   {
    "duration": 17,
    "start_time": "2022-09-12T00:38:24.209Z"
   },
   {
    "duration": 22,
    "start_time": "2022-09-12T00:38:24.762Z"
   },
   {
    "duration": 60,
    "start_time": "2022-09-12T00:38:25.657Z"
   },
   {
    "duration": 73,
    "start_time": "2022-09-12T00:38:26.119Z"
   },
   {
    "duration": 50,
    "start_time": "2022-09-12T00:38:26.642Z"
   },
   {
    "duration": 7,
    "start_time": "2022-09-12T00:38:27.709Z"
   },
   {
    "duration": 38,
    "start_time": "2022-09-12T00:38:28.772Z"
   },
   {
    "duration": 7,
    "start_time": "2022-09-12T00:38:32.877Z"
   },
   {
    "duration": 8,
    "start_time": "2022-09-12T00:38:35.677Z"
   },
   {
    "duration": 41,
    "start_time": "2022-09-12T00:38:39.735Z"
   },
   {
    "duration": 46,
    "start_time": "2022-09-12T00:38:43.911Z"
   },
   {
    "duration": 30,
    "start_time": "2022-09-12T00:38:44.985Z"
   },
   {
    "duration": 16,
    "start_time": "2022-09-12T00:38:47.433Z"
   },
   {
    "duration": 15,
    "start_time": "2022-09-12T00:38:50.501Z"
   },
   {
    "duration": 14,
    "start_time": "2022-09-12T00:38:50.699Z"
   },
   {
    "duration": 13,
    "start_time": "2022-09-12T00:38:50.904Z"
   },
   {
    "duration": 19,
    "start_time": "2022-09-12T00:38:51.125Z"
   },
   {
    "duration": 18,
    "start_time": "2022-09-12T00:38:51.311Z"
   },
   {
    "duration": 13,
    "start_time": "2022-09-12T00:38:51.589Z"
   },
   {
    "duration": 6,
    "start_time": "2022-09-12T00:38:52.377Z"
   },
   {
    "duration": 7,
    "start_time": "2022-09-12T00:38:57.691Z"
   },
   {
    "duration": 5,
    "start_time": "2022-09-12T00:39:00.721Z"
   },
   {
    "duration": 10,
    "start_time": "2022-09-12T00:39:46.022Z"
   },
   {
    "duration": 6,
    "start_time": "2022-09-12T00:39:46.331Z"
   },
   {
    "duration": 18,
    "start_time": "2022-09-12T00:39:46.516Z"
   },
   {
    "duration": 5,
    "start_time": "2022-09-12T00:40:10.531Z"
   },
   {
    "duration": 882,
    "start_time": "2022-09-12T00:40:12.588Z"
   },
   {
    "duration": 7,
    "start_time": "2022-09-12T00:40:28.420Z"
   },
   {
    "duration": 1013,
    "start_time": "2022-09-12T00:40:30.517Z"
   },
   {
    "duration": 4,
    "start_time": "2022-09-12T00:40:39.868Z"
   },
   {
    "duration": 761,
    "start_time": "2022-09-12T00:40:56.056Z"
   },
   {
    "duration": 4,
    "start_time": "2022-09-12T00:42:13.178Z"
   },
   {
    "duration": 927,
    "start_time": "2022-09-12T00:42:14.209Z"
   },
   {
    "duration": 763,
    "start_time": "2022-09-12T00:42:59.251Z"
   },
   {
    "duration": 792,
    "start_time": "2022-09-12T00:43:10.695Z"
   },
   {
    "duration": 716,
    "start_time": "2022-09-12T00:43:55.121Z"
   },
   {
    "duration": 7,
    "start_time": "2022-09-12T00:44:24.884Z"
   },
   {
    "duration": 9,
    "start_time": "2022-09-12T00:44:26.521Z"
   },
   {
    "duration": 2,
    "start_time": "2022-09-12T00:44:34.071Z"
   },
   {
    "duration": 141,
    "start_time": "2022-09-12T00:44:34.385Z"
   },
   {
    "duration": 11,
    "start_time": "2022-09-12T00:44:34.531Z"
   },
   {
    "duration": 6,
    "start_time": "2022-09-12T00:44:34.813Z"
   },
   {
    "duration": 7,
    "start_time": "2022-09-12T00:44:35.126Z"
   },
   {
    "duration": 4,
    "start_time": "2022-09-12T00:44:36.030Z"
   },
   {
    "duration": 3,
    "start_time": "2022-09-12T00:44:36.309Z"
   },
   {
    "duration": 3,
    "start_time": "2022-09-12T00:44:36.628Z"
   },
   {
    "duration": 22,
    "start_time": "2022-09-12T00:44:37.086Z"
   },
   {
    "duration": 16,
    "start_time": "2022-09-12T00:44:37.557Z"
   },
   {
    "duration": 21,
    "start_time": "2022-09-12T00:44:38.141Z"
   },
   {
    "duration": 52,
    "start_time": "2022-09-12T00:44:39.210Z"
   },
   {
    "duration": 53,
    "start_time": "2022-09-12T00:44:39.657Z"
   },
   {
    "duration": 53,
    "start_time": "2022-09-12T00:44:40.175Z"
   },
   {
    "duration": 8,
    "start_time": "2022-09-12T00:44:40.791Z"
   },
   {
    "duration": 37,
    "start_time": "2022-09-12T00:44:41.763Z"
   },
   {
    "duration": 7,
    "start_time": "2022-09-12T00:44:42.964Z"
   },
   {
    "duration": 7,
    "start_time": "2022-09-12T00:44:45.309Z"
   },
   {
    "duration": 37,
    "start_time": "2022-09-12T00:44:46.524Z"
   },
   {
    "duration": 31,
    "start_time": "2022-09-12T00:44:50.141Z"
   },
   {
    "duration": 31,
    "start_time": "2022-09-12T00:44:51.241Z"
   },
   {
    "duration": 11,
    "start_time": "2022-09-12T00:45:08.414Z"
   },
   {
    "duration": 16,
    "start_time": "2022-09-12T00:45:09.643Z"
   },
   {
    "duration": 13,
    "start_time": "2022-09-12T00:45:09.800Z"
   },
   {
    "duration": 14,
    "start_time": "2022-09-12T00:45:09.979Z"
   },
   {
    "duration": 15,
    "start_time": "2022-09-12T00:45:10.166Z"
   },
   {
    "duration": 16,
    "start_time": "2022-09-12T00:45:10.333Z"
   },
   {
    "duration": 15,
    "start_time": "2022-09-12T00:45:10.495Z"
   },
   {
    "duration": 5,
    "start_time": "2022-09-12T00:45:12.373Z"
   },
   {
    "duration": 7,
    "start_time": "2022-09-12T00:45:12.631Z"
   },
   {
    "duration": 3,
    "start_time": "2022-09-12T00:46:40.077Z"
   },
   {
    "duration": 3,
    "start_time": "2022-09-12T00:46:40.535Z"
   },
   {
    "duration": 3,
    "start_time": "2022-09-12T00:47:06.588Z"
   },
   {
    "duration": 4,
    "start_time": "2022-09-12T00:47:06.967Z"
   },
   {
    "duration": 4,
    "start_time": "2022-09-12T00:47:07.490Z"
   },
   {
    "duration": 10,
    "start_time": "2022-09-12T00:47:09.145Z"
   },
   {
    "duration": 4,
    "start_time": "2022-09-12T00:47:09.430Z"
   },
   {
    "duration": 12,
    "start_time": "2022-09-12T00:47:13.208Z"
   }
  ],
  "colab": {
   "collapsed_sections": [
    "E0vqbgi9ay0H",
    "VUC88oWjTJw2",
    "atZAxtq4_Zcu"
   ],
   "name": "EmptyFinalProject.ipynb\"",
   "provenance": []
  },
  "kernelspec": {
   "display_name": "Python 3 (ipykernel)",
   "language": "python",
   "name": "python3"
  },
  "language_info": {
   "codemirror_mode": {
    "name": "ipython",
    "version": 3
   },
   "file_extension": ".py",
   "mimetype": "text/x-python",
   "name": "python",
   "nbconvert_exporter": "python",
   "pygments_lexer": "ipython3",
   "version": "3.9.5"
  },
  "toc": {
   "base_numbering": 1,
   "nav_menu": {},
   "number_sections": true,
   "sideBar": true,
   "skip_h1_title": true,
   "title_cell": "Table of Contents",
   "title_sidebar": "Contents",
   "toc_cell": false,
   "toc_position": {},
   "toc_section_display": true,
   "toc_window_display": false
  }
 },
 "nbformat": 4,
 "nbformat_minor": 4
}
